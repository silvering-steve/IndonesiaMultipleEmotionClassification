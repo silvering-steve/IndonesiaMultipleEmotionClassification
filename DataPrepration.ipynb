{
 "cells": [
  {
   "cell_type": "code",
   "execution_count": 1,
   "outputs": [],
   "source": [
    "from Sastrawi.Stemmer.StemmerFactory import StemmerFactory\n",
    "from tqdm import tqdm\n",
    "\n",
    "import numpy as np\n",
    "import pandas as pd\n",
    "\n",
    "import string\n",
    "import nltk\n",
    "import glob\n",
    "import re"
   ],
   "metadata": {
    "collapsed": false,
    "pycharm": {
     "name": "#%%\n"
    }
   }
  },
  {
   "cell_type": "code",
   "execution_count": 2,
   "outputs": [],
   "source": [
    "path = \"./data/files\"\n",
    "\n",
    "file_list = []\n",
    "\n",
    "for file in glob.glob(path + \"/*.xlsx\"):\n",
    "    file_list.append(pd.read_excel(file))"
   ],
   "metadata": {
    "collapsed": false,
    "pycharm": {
     "name": "#%%\n"
    }
   }
  },
  {
   "cell_type": "code",
   "execution_count": 3,
   "outputs": [],
   "source": [
    "df_slang1 = pd.read_csv(\"slang/kamus_belanja.csv\")\n",
    "df_slang2 = pd.read_csv(\"slang/slang_indo.csv\")"
   ],
   "metadata": {
    "collapsed": false,
    "pycharm": {
     "name": "#%%\n"
    }
   }
  },
  {
   "cell_type": "code",
   "execution_count": 4,
   "outputs": [
    {
     "data": {
      "text/plain": "   Index                                               Text  Lang     Account  \\\n0      0  RT @Heraloebss: 16/9/2021 \\nAmbruknya SDN Di w...   NaN  BossTemlen   \n1      1  RT @nitarose38: Bismillah, semoga lancar https...   NaN  BossTemlen   \n2      2                                                  ️   NaN  BossTemlen   \n3      3  JELAS SEKALI ada yang salah dalam sistem berne...   NaN  BossTemlen   \n4      4  PANCASILA\\n.....\\n5. Keadilan sosial bagi selu...   NaN  BossTemlen   \n\n                  Date                                                URL  \\\n0  2021-09-17 03:36:33  https://www.twitter.com/BossTemlen/status/1438...   \n1  2021-09-17 03:28:58  https://www.twitter.com/BossTemlen/status/1438...   \n2  2021-09-17 03:21:04  https://www.twitter.com/BossTemlen/status/1438...   \n3  2021-09-17 00:32:00  https://www.twitter.com/BossTemlen/status/1438...   \n4  2021-09-17 00:22:31  https://www.twitter.com/BossTemlen/status/1438...   \n\n   Anger  Disgusted  Afraid  Happy  ...  Keywords Disgusted  Keywords Afraid  \\\n0    NaN        NaN     NaN    NaN  ...                 NaN              NaN   \n1    NaN        NaN     NaN    NaN  ...                 NaN              NaN   \n2    NaN        NaN     NaN    NaN  ...                 NaN              NaN   \n3    1.0        NaN     NaN    NaN  ...                 NaN              NaN   \n4    NaN        NaN     NaN    NaN  ...                 NaN              NaN   \n\n   Keywords Happy  Keywords Sad  Keywords Shocked  Notes 1  Notes 2  \\\n0             NaN           NaN               NaN      NaN      NaN   \n1             NaN           NaN               NaN      NaN      NaN   \n2             NaN           NaN               NaN      NaN      NaN   \n3             NaN           NaN               NaN      NaN      NaN   \n4             NaN           NaN               NaN      NaN      NaN   \n\n   Foldername                         Filename  PIC  \n0         NaN  20210917_130822_emotions_1.xlsx  NaN  \n1         NaN  20210917_130822_emotions_1.xlsx  NaN  \n2         NaN  20210917_130822_emotions_1.xlsx  NaN  \n3         NaN  20210917_130822_emotions_1.xlsx  NaN  \n4         NaN  20210917_130822_emotions_1.xlsx  NaN  \n\n[5 rows x 23 columns]",
      "text/html": "<div>\n<style scoped>\n    .dataframe tbody tr th:only-of-type {\n        vertical-align: middle;\n    }\n\n    .dataframe tbody tr th {\n        vertical-align: top;\n    }\n\n    .dataframe thead th {\n        text-align: right;\n    }\n</style>\n<table border=\"1\" class=\"dataframe\">\n  <thead>\n    <tr style=\"text-align: right;\">\n      <th></th>\n      <th>Index</th>\n      <th>Text</th>\n      <th>Lang</th>\n      <th>Account</th>\n      <th>Date</th>\n      <th>URL</th>\n      <th>Anger</th>\n      <th>Disgusted</th>\n      <th>Afraid</th>\n      <th>Happy</th>\n      <th>...</th>\n      <th>Keywords Disgusted</th>\n      <th>Keywords Afraid</th>\n      <th>Keywords Happy</th>\n      <th>Keywords Sad</th>\n      <th>Keywords Shocked</th>\n      <th>Notes 1</th>\n      <th>Notes 2</th>\n      <th>Foldername</th>\n      <th>Filename</th>\n      <th>PIC</th>\n    </tr>\n  </thead>\n  <tbody>\n    <tr>\n      <th>0</th>\n      <td>0</td>\n      <td>RT @Heraloebss: 16/9/2021 \\nAmbruknya SDN Di w...</td>\n      <td>NaN</td>\n      <td>BossTemlen</td>\n      <td>2021-09-17 03:36:33</td>\n      <td>https://www.twitter.com/BossTemlen/status/1438...</td>\n      <td>NaN</td>\n      <td>NaN</td>\n      <td>NaN</td>\n      <td>NaN</td>\n      <td>...</td>\n      <td>NaN</td>\n      <td>NaN</td>\n      <td>NaN</td>\n      <td>NaN</td>\n      <td>NaN</td>\n      <td>NaN</td>\n      <td>NaN</td>\n      <td>NaN</td>\n      <td>20210917_130822_emotions_1.xlsx</td>\n      <td>NaN</td>\n    </tr>\n    <tr>\n      <th>1</th>\n      <td>1</td>\n      <td>RT @nitarose38: Bismillah, semoga lancar https...</td>\n      <td>NaN</td>\n      <td>BossTemlen</td>\n      <td>2021-09-17 03:28:58</td>\n      <td>https://www.twitter.com/BossTemlen/status/1438...</td>\n      <td>NaN</td>\n      <td>NaN</td>\n      <td>NaN</td>\n      <td>NaN</td>\n      <td>...</td>\n      <td>NaN</td>\n      <td>NaN</td>\n      <td>NaN</td>\n      <td>NaN</td>\n      <td>NaN</td>\n      <td>NaN</td>\n      <td>NaN</td>\n      <td>NaN</td>\n      <td>20210917_130822_emotions_1.xlsx</td>\n      <td>NaN</td>\n    </tr>\n    <tr>\n      <th>2</th>\n      <td>2</td>\n      <td>️</td>\n      <td>NaN</td>\n      <td>BossTemlen</td>\n      <td>2021-09-17 03:21:04</td>\n      <td>https://www.twitter.com/BossTemlen/status/1438...</td>\n      <td>NaN</td>\n      <td>NaN</td>\n      <td>NaN</td>\n      <td>NaN</td>\n      <td>...</td>\n      <td>NaN</td>\n      <td>NaN</td>\n      <td>NaN</td>\n      <td>NaN</td>\n      <td>NaN</td>\n      <td>NaN</td>\n      <td>NaN</td>\n      <td>NaN</td>\n      <td>20210917_130822_emotions_1.xlsx</td>\n      <td>NaN</td>\n    </tr>\n    <tr>\n      <th>3</th>\n      <td>3</td>\n      <td>JELAS SEKALI ada yang salah dalam sistem berne...</td>\n      <td>NaN</td>\n      <td>BossTemlen</td>\n      <td>2021-09-17 00:32:00</td>\n      <td>https://www.twitter.com/BossTemlen/status/1438...</td>\n      <td>1.0</td>\n      <td>NaN</td>\n      <td>NaN</td>\n      <td>NaN</td>\n      <td>...</td>\n      <td>NaN</td>\n      <td>NaN</td>\n      <td>NaN</td>\n      <td>NaN</td>\n      <td>NaN</td>\n      <td>NaN</td>\n      <td>NaN</td>\n      <td>NaN</td>\n      <td>20210917_130822_emotions_1.xlsx</td>\n      <td>NaN</td>\n    </tr>\n    <tr>\n      <th>4</th>\n      <td>4</td>\n      <td>PANCASILA\\n.....\\n5. Keadilan sosial bagi selu...</td>\n      <td>NaN</td>\n      <td>BossTemlen</td>\n      <td>2021-09-17 00:22:31</td>\n      <td>https://www.twitter.com/BossTemlen/status/1438...</td>\n      <td>NaN</td>\n      <td>NaN</td>\n      <td>NaN</td>\n      <td>NaN</td>\n      <td>...</td>\n      <td>NaN</td>\n      <td>NaN</td>\n      <td>NaN</td>\n      <td>NaN</td>\n      <td>NaN</td>\n      <td>NaN</td>\n      <td>NaN</td>\n      <td>NaN</td>\n      <td>20210917_130822_emotions_1.xlsx</td>\n      <td>NaN</td>\n    </tr>\n  </tbody>\n</table>\n<p>5 rows × 23 columns</p>\n</div>"
     },
     "execution_count": 4,
     "metadata": {},
     "output_type": "execute_result"
    }
   ],
   "source": [
    "df = pd.concat(file_list, ignore_index=True)\n",
    "df.head()"
   ],
   "metadata": {
    "collapsed": false,
    "pycharm": {
     "name": "#%%\n"
    }
   }
  },
  {
   "cell_type": "code",
   "execution_count": 5,
   "outputs": [
    {
     "data": {
      "text/plain": "                                                Text  Anger  Disgusted  \\\n0  RT @Heraloebss: 16/9/2021 \\nAmbruknya SDN Di w...    NaN        NaN   \n1  RT @nitarose38: Bismillah, semoga lancar https...    NaN        NaN   \n2                                                  ️    NaN        NaN   \n3  JELAS SEKALI ada yang salah dalam sistem berne...    1.0        NaN   \n4  PANCASILA\\n.....\\n5. Keadilan sosial bagi selu...    NaN        NaN   \n\n   Afraid  Happy  Sad  Shocked  \n0     NaN    NaN  NaN      NaN  \n1     NaN    NaN  NaN      NaN  \n2     NaN    NaN  NaN      NaN  \n3     NaN    NaN  NaN      NaN  \n4     NaN    NaN  NaN      NaN  ",
      "text/html": "<div>\n<style scoped>\n    .dataframe tbody tr th:only-of-type {\n        vertical-align: middle;\n    }\n\n    .dataframe tbody tr th {\n        vertical-align: top;\n    }\n\n    .dataframe thead th {\n        text-align: right;\n    }\n</style>\n<table border=\"1\" class=\"dataframe\">\n  <thead>\n    <tr style=\"text-align: right;\">\n      <th></th>\n      <th>Text</th>\n      <th>Anger</th>\n      <th>Disgusted</th>\n      <th>Afraid</th>\n      <th>Happy</th>\n      <th>Sad</th>\n      <th>Shocked</th>\n    </tr>\n  </thead>\n  <tbody>\n    <tr>\n      <th>0</th>\n      <td>RT @Heraloebss: 16/9/2021 \\nAmbruknya SDN Di w...</td>\n      <td>NaN</td>\n      <td>NaN</td>\n      <td>NaN</td>\n      <td>NaN</td>\n      <td>NaN</td>\n      <td>NaN</td>\n    </tr>\n    <tr>\n      <th>1</th>\n      <td>RT @nitarose38: Bismillah, semoga lancar https...</td>\n      <td>NaN</td>\n      <td>NaN</td>\n      <td>NaN</td>\n      <td>NaN</td>\n      <td>NaN</td>\n      <td>NaN</td>\n    </tr>\n    <tr>\n      <th>2</th>\n      <td>️</td>\n      <td>NaN</td>\n      <td>NaN</td>\n      <td>NaN</td>\n      <td>NaN</td>\n      <td>NaN</td>\n      <td>NaN</td>\n    </tr>\n    <tr>\n      <th>3</th>\n      <td>JELAS SEKALI ada yang salah dalam sistem berne...</td>\n      <td>1.0</td>\n      <td>NaN</td>\n      <td>NaN</td>\n      <td>NaN</td>\n      <td>NaN</td>\n      <td>NaN</td>\n    </tr>\n    <tr>\n      <th>4</th>\n      <td>PANCASILA\\n.....\\n5. Keadilan sosial bagi selu...</td>\n      <td>NaN</td>\n      <td>NaN</td>\n      <td>NaN</td>\n      <td>NaN</td>\n      <td>NaN</td>\n      <td>NaN</td>\n    </tr>\n  </tbody>\n</table>\n</div>"
     },
     "execution_count": 5,
     "metadata": {},
     "output_type": "execute_result"
    }
   ],
   "source": [
    "columns = ['Text', 'Anger', 'Disgusted', 'Afraid', 'Happy', 'Sad', 'Shocked']\n",
    "\n",
    "df = df[columns]\n",
    "df.head()"
   ],
   "metadata": {
    "collapsed": false,
    "pycharm": {
     "name": "#%%\n"
    }
   }
  },
  {
   "cell_type": "code",
   "execution_count": 6,
   "outputs": [
    {
     "data": {
      "text/plain": "(40000, 7)"
     },
     "execution_count": 6,
     "metadata": {},
     "output_type": "execute_result"
    }
   ],
   "source": [
    "df.shape"
   ],
   "metadata": {
    "collapsed": false,
    "pycharm": {
     "name": "#%%\n"
    }
   }
  },
  {
   "cell_type": "code",
   "execution_count": 7,
   "outputs": [
    {
     "data": {
      "text/plain": "                                                Text  Anger  Disgusted  \\\n0  RT @Heraloebss: 16/9/2021 \\nAmbruknya SDN Di w...      0          0   \n1  RT @nitarose38: Bismillah, semoga lancar https...      0          0   \n2                                                  ️      0          0   \n3  JELAS SEKALI ada yang salah dalam sistem berne...      1          0   \n4  PANCASILA\\n.....\\n5. Keadilan sosial bagi selu...      0          0   \n\n   Afraid  Happy  Sad  Shocked  \n0       0      0    0        0  \n1       0      0    0        0  \n2       0      0    0        0  \n3       0      0    0        0  \n4       0      0    0        0  ",
      "text/html": "<div>\n<style scoped>\n    .dataframe tbody tr th:only-of-type {\n        vertical-align: middle;\n    }\n\n    .dataframe tbody tr th {\n        vertical-align: top;\n    }\n\n    .dataframe thead th {\n        text-align: right;\n    }\n</style>\n<table border=\"1\" class=\"dataframe\">\n  <thead>\n    <tr style=\"text-align: right;\">\n      <th></th>\n      <th>Text</th>\n      <th>Anger</th>\n      <th>Disgusted</th>\n      <th>Afraid</th>\n      <th>Happy</th>\n      <th>Sad</th>\n      <th>Shocked</th>\n    </tr>\n  </thead>\n  <tbody>\n    <tr>\n      <th>0</th>\n      <td>RT @Heraloebss: 16/9/2021 \\nAmbruknya SDN Di w...</td>\n      <td>0</td>\n      <td>0</td>\n      <td>0</td>\n      <td>0</td>\n      <td>0</td>\n      <td>0</td>\n    </tr>\n    <tr>\n      <th>1</th>\n      <td>RT @nitarose38: Bismillah, semoga lancar https...</td>\n      <td>0</td>\n      <td>0</td>\n      <td>0</td>\n      <td>0</td>\n      <td>0</td>\n      <td>0</td>\n    </tr>\n    <tr>\n      <th>2</th>\n      <td>️</td>\n      <td>0</td>\n      <td>0</td>\n      <td>0</td>\n      <td>0</td>\n      <td>0</td>\n      <td>0</td>\n    </tr>\n    <tr>\n      <th>3</th>\n      <td>JELAS SEKALI ada yang salah dalam sistem berne...</td>\n      <td>1</td>\n      <td>0</td>\n      <td>0</td>\n      <td>0</td>\n      <td>0</td>\n      <td>0</td>\n    </tr>\n    <tr>\n      <th>4</th>\n      <td>PANCASILA\\n.....\\n5. Keadilan sosial bagi selu...</td>\n      <td>0</td>\n      <td>0</td>\n      <td>0</td>\n      <td>0</td>\n      <td>0</td>\n      <td>0</td>\n    </tr>\n  </tbody>\n</table>\n</div>"
     },
     "execution_count": 7,
     "metadata": {},
     "output_type": "execute_result"
    }
   ],
   "source": [
    "df[['Anger', 'Disgusted', 'Afraid', 'Happy', 'Sad', 'Shocked']] = df[['Anger', 'Disgusted', 'Afraid', 'Happy', 'Sad', 'Shocked']].fillna(0).astype('int64')\n",
    "df.head()"
   ],
   "metadata": {
    "collapsed": false,
    "pycharm": {
     "name": "#%%\n"
    }
   }
  },
  {
   "cell_type": "code",
   "execution_count": 8,
   "outputs": [
    {
     "data": {
      "text/plain": "                                                    Text  Anger  Disgusted  \\\n33361         rt damnnnn i gonna do thisssss to my carrr      0          0   \n28655  rt jika bkenan bacalah baik2yg sayalingkari merah      0          0   \n27160  di rejim ini bkn sj ngr ancur tp jg pjbt nya p...      0          0   \n32268    anjg itu tulisan bold bener ampe puyeng liatnya      0          0   \n6756                          viral video drakor terbaru      0          0   \n28245  kalau jkw biasa dan sengaja masuk got kalau wa...      0          0   \n20411    emang siapa yg mau milih ya kecuali yg ga waras      0          0   \n20420  lurah sudirman tapi jalan ke sumedang mau ke m...      0          0   \n30711             rt si pro new yg sdh follow bantu mksh      0          0   \n26069  alhamdulillah orang sombong itu akhirnya akan ...      0          0   \n\n       Afraid  Happy  Sad  Shocked  \n33361       0      0    0        0  \n28655       0      0    0        0  \n27160       0      0    0        0  \n32268       0      0    0        0  \n6756        0      0    0        0  \n28245       0      0    0        0  \n20411       0      0    0        0  \n20420       0      0    0        0  \n30711       0      0    0        0  \n26069       0      0    0        0  ",
      "text/html": "<div>\n<style scoped>\n    .dataframe tbody tr th:only-of-type {\n        vertical-align: middle;\n    }\n\n    .dataframe tbody tr th {\n        vertical-align: top;\n    }\n\n    .dataframe thead th {\n        text-align: right;\n    }\n</style>\n<table border=\"1\" class=\"dataframe\">\n  <thead>\n    <tr style=\"text-align: right;\">\n      <th></th>\n      <th>Text</th>\n      <th>Anger</th>\n      <th>Disgusted</th>\n      <th>Afraid</th>\n      <th>Happy</th>\n      <th>Sad</th>\n      <th>Shocked</th>\n    </tr>\n  </thead>\n  <tbody>\n    <tr>\n      <th>33361</th>\n      <td>rt damnnnn i gonna do thisssss to my carrr</td>\n      <td>0</td>\n      <td>0</td>\n      <td>0</td>\n      <td>0</td>\n      <td>0</td>\n      <td>0</td>\n    </tr>\n    <tr>\n      <th>28655</th>\n      <td>rt jika bkenan bacalah baik2yg sayalingkari merah</td>\n      <td>0</td>\n      <td>0</td>\n      <td>0</td>\n      <td>0</td>\n      <td>0</td>\n      <td>0</td>\n    </tr>\n    <tr>\n      <th>27160</th>\n      <td>di rejim ini bkn sj ngr ancur tp jg pjbt nya p...</td>\n      <td>0</td>\n      <td>0</td>\n      <td>0</td>\n      <td>0</td>\n      <td>0</td>\n      <td>0</td>\n    </tr>\n    <tr>\n      <th>32268</th>\n      <td>anjg itu tulisan bold bener ampe puyeng liatnya</td>\n      <td>0</td>\n      <td>0</td>\n      <td>0</td>\n      <td>0</td>\n      <td>0</td>\n      <td>0</td>\n    </tr>\n    <tr>\n      <th>6756</th>\n      <td>viral video drakor terbaru</td>\n      <td>0</td>\n      <td>0</td>\n      <td>0</td>\n      <td>0</td>\n      <td>0</td>\n      <td>0</td>\n    </tr>\n    <tr>\n      <th>28245</th>\n      <td>kalau jkw biasa dan sengaja masuk got kalau wa...</td>\n      <td>0</td>\n      <td>0</td>\n      <td>0</td>\n      <td>0</td>\n      <td>0</td>\n      <td>0</td>\n    </tr>\n    <tr>\n      <th>20411</th>\n      <td>emang siapa yg mau milih ya kecuali yg ga waras</td>\n      <td>0</td>\n      <td>0</td>\n      <td>0</td>\n      <td>0</td>\n      <td>0</td>\n      <td>0</td>\n    </tr>\n    <tr>\n      <th>20420</th>\n      <td>lurah sudirman tapi jalan ke sumedang mau ke m...</td>\n      <td>0</td>\n      <td>0</td>\n      <td>0</td>\n      <td>0</td>\n      <td>0</td>\n      <td>0</td>\n    </tr>\n    <tr>\n      <th>30711</th>\n      <td>rt si pro new yg sdh follow bantu mksh</td>\n      <td>0</td>\n      <td>0</td>\n      <td>0</td>\n      <td>0</td>\n      <td>0</td>\n      <td>0</td>\n    </tr>\n    <tr>\n      <th>26069</th>\n      <td>alhamdulillah orang sombong itu akhirnya akan ...</td>\n      <td>0</td>\n      <td>0</td>\n      <td>0</td>\n      <td>0</td>\n      <td>0</td>\n      <td>0</td>\n    </tr>\n  </tbody>\n</table>\n</div>"
     },
     "execution_count": 8,
     "metadata": {},
     "output_type": "execute_result"
    }
   ],
   "source": [
    "##CUSTOM DEFINED FUNCTIONS TO CLEAN THE TWEETS\n",
    "\n",
    "#Clean emojis from text\n",
    "def strip_emoji(text):\n",
    "    return re.sub(r'\\d+(.*?)[\\u263a-\\U0001f645]', r\" \", text) #remove emoji\n",
    "\n",
    "#Remove punctuations, links, mentions and \\r\\n new line characters\n",
    "def strip_all_entities(text):\n",
    "    text = text.replace('\\r', ' ').replace('\\n', ' ').replace('\\n', ' ').lower() #remove \\n and \\r and lowercase\n",
    "    text = re.sub(r\"(?:\\@|https?\\://)\\S+\", \" \", text) #remove links and mentions\n",
    "    text = re.sub(r'[^\\x00-\\x7f]',r' ', text) #remove non utf8/ascii characters such as '\\x9a\\x91\\x97\\x9a\\x97'\n",
    "    banned_list= string.punctuation + 'Ã'+'±'+'ã'+'¼'+'â'+'»'+'§'\n",
    "    table = str.maketrans(' ', ' ', banned_list)\n",
    "    text = text.translate(table)\n",
    "    return text\n",
    "\n",
    "#clean hashtags at the end of the sentence, and keep those in the middle of the sentence by removing just the # symbol\n",
    "def clean_hashtags(tweet):\n",
    "    new_tweet = \" \".join(word.strip() for word in re.split('#(?!(?:hashtag)\\b)[\\w-]+(?=(?:\\s+#[\\w-]+)*\\s*$)', tweet)) #remove last hashtags\n",
    "    new_tweet2 = \" \".join(word.strip() for word in re.split('#|_', new_tweet)) #remove hashtags symbol from words in the middle of the sentence\n",
    "    return new_tweet2\n",
    "\n",
    "#Filter special characters such as & and $ present in some words\n",
    "def filter_chars(a):\n",
    "    sent = []\n",
    "    for word in a.split(' '):\n",
    "        if ('$' in word) | ('&' in word):\n",
    "            sent.append(' ')\n",
    "        else:\n",
    "            sent.append(word)\n",
    "    return ' '.join(sent)\n",
    "\n",
    "def remove_mult_spaces(text): # remove multiple spaces\n",
    "    return re.sub(\"\\s\\s+\" , \" \", text)\n",
    "\n",
    "def drop_small_text(text):\n",
    "    text = re.sub(r'RT', \" \", text)\n",
    "    return np.nan if len(text) < 20 else text\n",
    "\n",
    "df['Text'] = df['Text'].apply(lambda x: drop_small_text(remove_mult_spaces(filter_chars(clean_hashtags(strip_all_entities(strip_emoji(x)))))))\n",
    "df.dropna(inplace=True)\n",
    "df.sample(10)"
   ],
   "metadata": {
    "collapsed": false,
    "pycharm": {
     "name": "#%%\n"
    }
   }
  },
  {
   "cell_type": "code",
   "execution_count": 9,
   "outputs": [],
   "source": [
    "df.to_csv(\"data/data.csv\", index=False)"
   ],
   "metadata": {
    "collapsed": false,
    "pycharm": {
     "name": "#%%\n"
    }
   }
  }
 ],
 "metadata": {
  "kernelspec": {
   "display_name": "Python 3",
   "language": "python",
   "name": "python3"
  },
  "language_info": {
   "codemirror_mode": {
    "name": "ipython",
    "version": 2
   },
   "file_extension": ".py",
   "mimetype": "text/x-python",
   "name": "python",
   "nbconvert_exporter": "python",
   "pygments_lexer": "ipython2",
   "version": "2.7.6"
  }
 },
 "nbformat": 4,
 "nbformat_minor": 0
}