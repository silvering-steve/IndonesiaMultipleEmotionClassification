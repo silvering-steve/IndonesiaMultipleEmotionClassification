{
 "cells": [
  {
   "cell_type": "markdown",
   "id": "d268a76c",
   "metadata": {
    "papermill": {
     "duration": 0.022579,
     "end_time": "2022-10-14T05:07:09.726946",
     "exception": false,
     "start_time": "2022-10-14T05:07:09.704367",
     "status": "completed"
    },
    "tags": []
   },
   "source": [
    "# **Environment Preparing**"
   ]
  },
  {
   "cell_type": "code",
   "execution_count": 1,
   "id": "80962fd4",
   "metadata": {
    "execution": {
     "iopub.execute_input": "2022-10-14T05:07:09.779464Z",
     "iopub.status.busy": "2022-10-14T05:07:09.778557Z",
     "iopub.status.idle": "2022-10-14T05:07:19.418985Z",
     "shell.execute_reply": "2022-10-14T05:07:19.418219Z"
    },
    "papermill": {
     "duration": 9.670289,
     "end_time": "2022-10-14T05:07:19.419166",
     "exception": false,
     "start_time": "2022-10-14T05:07:09.748877",
     "status": "completed"
    },
    "tags": []
   },
   "outputs": [
    {
     "name": "stdout",
     "output_type": "stream",
     "text": [
      "Requirement already satisfied: transformers in /opt/conda/lib/python3.7/site-packages (4.5.1)\r\n",
      "Requirement already satisfied: packaging in /opt/conda/lib/python3.7/site-packages (from transformers) (21.0)\r\n",
      "Requirement already satisfied: regex!=2019.12.17 in /opt/conda/lib/python3.7/site-packages (from transformers) (2021.8.3)\r\n",
      "Requirement already satisfied: requests in /opt/conda/lib/python3.7/site-packages (from transformers) (2.25.1)\r\n",
      "Requirement already satisfied: tqdm>=4.27 in /opt/conda/lib/python3.7/site-packages (from transformers) (4.62.1)\r\n",
      "Requirement already satisfied: sacremoses in /opt/conda/lib/python3.7/site-packages (from transformers) (0.0.45)\r\n",
      "Requirement already satisfied: numpy>=1.17 in /opt/conda/lib/python3.7/site-packages (from transformers) (1.19.5)\r\n",
      "Requirement already satisfied: tokenizers<0.11,>=0.10.1 in /opt/conda/lib/python3.7/site-packages (from transformers) (0.10.3)\r\n",
      "Requirement already satisfied: filelock in /opt/conda/lib/python3.7/site-packages (from transformers) (3.0.12)\r\n",
      "Requirement already satisfied: importlib-metadata in /opt/conda/lib/python3.7/site-packages (from transformers) (3.4.0)\r\n",
      "Requirement already satisfied: zipp>=0.5 in /opt/conda/lib/python3.7/site-packages (from importlib-metadata->transformers) (3.5.0)\r\n",
      "Requirement already satisfied: typing-extensions>=3.6.4 in /opt/conda/lib/python3.7/site-packages (from importlib-metadata->transformers) (3.7.4.3)\r\n",
      "Requirement already satisfied: pyparsing>=2.0.2 in /opt/conda/lib/python3.7/site-packages (from packaging->transformers) (2.4.7)\r\n",
      "Requirement already satisfied: certifi>=2017.4.17 in /opt/conda/lib/python3.7/site-packages (from requests->transformers) (2021.5.30)\r\n",
      "Requirement already satisfied: idna<3,>=2.5 in /opt/conda/lib/python3.7/site-packages (from requests->transformers) (2.10)\r\n",
      "Requirement already satisfied: chardet<5,>=3.0.2 in /opt/conda/lib/python3.7/site-packages (from requests->transformers) (4.0.0)\r\n",
      "Requirement already satisfied: urllib3<1.27,>=1.21.1 in /opt/conda/lib/python3.7/site-packages (from requests->transformers) (1.26.6)\r\n",
      "Requirement already satisfied: six in /opt/conda/lib/python3.7/site-packages (from sacremoses->transformers) (1.15.0)\r\n",
      "Requirement already satisfied: joblib in /opt/conda/lib/python3.7/site-packages (from sacremoses->transformers) (1.0.1)\r\n",
      "Requirement already satisfied: click in /opt/conda/lib/python3.7/site-packages (from sacremoses->transformers) (8.0.1)\r\n",
      "\u001b[33mWARNING: Running pip as the 'root' user can result in broken permissions and conflicting behaviour with the system package manager. It is recommended to use a virtual environment instead: https://pip.pypa.io/warnings/venv\u001b[0m\r\n"
     ]
    }
   ],
   "source": [
    "!pip install transformers"
   ]
  },
  {
   "cell_type": "code",
   "execution_count": 2,
   "id": "a4fe8941",
   "metadata": {
    "execution": {
     "iopub.execute_input": "2022-10-14T05:07:19.475464Z",
     "iopub.status.busy": "2022-10-14T05:07:19.474605Z",
     "iopub.status.idle": "2022-10-14T05:07:27.946360Z",
     "shell.execute_reply": "2022-10-14T05:07:27.945258Z",
     "shell.execute_reply.started": "2022-10-14T04:47:20.789789Z"
    },
    "papermill": {
     "duration": 8.502843,
     "end_time": "2022-10-14T05:07:27.946587",
     "exception": false,
     "start_time": "2022-10-14T05:07:19.443744",
     "status": "completed"
    },
    "tags": []
   },
   "outputs": [
    {
     "name": "stderr",
     "output_type": "stream",
     "text": [
      "2022-10-14 05:07:20.582706: W tensorflow/stream_executor/platform/default/dso_loader.cc:60] Could not load dynamic library 'libcudart.so.11.0'; dlerror: libcudart.so.11.0: cannot open shared object file: No such file or directory; LD_LIBRARY_PATH: /opt/conda/lib\n",
      "2022-10-14 05:07:20.582828: I tensorflow/stream_executor/cuda/cudart_stub.cc:29] Ignore above cudart dlerror if you do not have a GPU set up on your machine.\n"
     ]
    }
   ],
   "source": [
    "import transformers\n",
    "from transformers import TFAutoModel, AutoTokenizer\n",
    "\n",
    "import random\n",
    "import pandas as pd\n",
    "import numpy as np\n",
    "\n",
    "from sklearn.model_selection import train_test_split\n",
    "from sklearn.metrics import f1_score, classification_report\n",
    "\n",
    "import tensorflow as tf\n",
    "from tensorflow.keras import backend as K\n",
    "from tensorflow.keras.layers import Dense, Input, Dropout\n",
    "from tensorflow.keras.optimizers import Adam\n",
    "from tensorflow.keras.models import Model\n",
    "from tensorflow.keras.callbacks import ModelCheckpoint, ReduceLROnPlateau, EarlyStopping"
   ]
  },
  {
   "cell_type": "code",
   "execution_count": 3,
   "id": "a68d8762",
   "metadata": {
    "execution": {
     "iopub.execute_input": "2022-10-14T05:07:27.997979Z",
     "iopub.status.busy": "2022-10-14T05:07:27.997280Z",
     "iopub.status.idle": "2022-10-14T05:07:34.080581Z",
     "shell.execute_reply": "2022-10-14T05:07:34.079969Z",
     "shell.execute_reply.started": "2022-10-14T04:51:58.717592Z"
    },
    "papermill": {
     "duration": 6.110072,
     "end_time": "2022-10-14T05:07:34.080774",
     "exception": false,
     "start_time": "2022-10-14T05:07:27.970702",
     "status": "completed"
    },
    "tags": []
   },
   "outputs": [
    {
     "name": "stderr",
     "output_type": "stream",
     "text": [
      "2022-10-14 05:07:28.002528: I tensorflow/compiler/jit/xla_cpu_device.cc:41] Not creating XLA devices, tf_xla_enable_xla_devices not set\n",
      "2022-10-14 05:07:28.005242: W tensorflow/stream_executor/platform/default/dso_loader.cc:60] Could not load dynamic library 'libcuda.so.1'; dlerror: libcuda.so.1: cannot open shared object file: No such file or directory; LD_LIBRARY_PATH: /opt/conda/lib\n",
      "2022-10-14 05:07:28.005276: W tensorflow/stream_executor/cuda/cuda_driver.cc:326] failed call to cuInit: UNKNOWN ERROR (303)\n",
      "2022-10-14 05:07:28.005306: I tensorflow/stream_executor/cuda/cuda_diagnostics.cc:156] kernel driver does not appear to be running on this host (58b71104ec62): /proc/driver/nvidia/version does not exist\n",
      "2022-10-14 05:07:28.007908: I tensorflow/core/platform/cpu_feature_guard.cc:142] This TensorFlow binary is optimized with oneAPI Deep Neural Network Library (oneDNN) to use the following CPU instructions in performance-critical operations:  AVX2 FMA\n",
      "To enable them in other operations, rebuild TensorFlow with the appropriate compiler flags.\n",
      "2022-10-14 05:07:28.010021: I tensorflow/compiler/jit/xla_gpu_device.cc:99] Not creating XLA devices, tf_xla_enable_xla_devices not set\n",
      "2022-10-14 05:07:28.045975: I tensorflow/core/distributed_runtime/rpc/grpc_channel.cc:301] Initialize GrpcChannelCache for job worker -> {0 -> 10.0.0.2:8470}\n",
      "2022-10-14 05:07:28.046049: I tensorflow/core/distributed_runtime/rpc/grpc_channel.cc:301] Initialize GrpcChannelCache for job localhost -> {0 -> localhost:30019}\n",
      "2022-10-14 05:07:28.078070: I tensorflow/core/distributed_runtime/rpc/grpc_channel.cc:301] Initialize GrpcChannelCache for job worker -> {0 -> 10.0.0.2:8470}\n",
      "2022-10-14 05:07:28.078132: I tensorflow/core/distributed_runtime/rpc/grpc_channel.cc:301] Initialize GrpcChannelCache for job localhost -> {0 -> localhost:30019}\n",
      "2022-10-14 05:07:28.080125: I tensorflow/core/distributed_runtime/rpc/grpc_server_lib.cc:411] Started server with target: grpc://localhost:30019\n"
     ]
    }
   ],
   "source": [
    "tpu = tf.distribute.cluster_resolver.TPUClusterResolver()\n",
    "tf.config.experimental_connect_to_cluster(tpu)\n",
    "tf.tpu.experimental.initialize_tpu_system(tpu)\n",
    "strategy = tf.distribute.experimental.TPUStrategy(tpu)"
   ]
  },
  {
   "cell_type": "markdown",
   "id": "06cd570d",
   "metadata": {
    "papermill": {
     "duration": 0.025138,
     "end_time": "2022-10-14T05:07:34.134315",
     "exception": false,
     "start_time": "2022-10-14T05:07:34.109177",
     "status": "completed"
    },
    "tags": []
   },
   "source": [
    "# **Data Preparing**"
   ]
  },
  {
   "cell_type": "code",
   "execution_count": 4,
   "id": "496757dd",
   "metadata": {
    "execution": {
     "iopub.execute_input": "2022-10-14T05:07:34.188132Z",
     "iopub.status.busy": "2022-10-14T05:07:34.187324Z",
     "iopub.status.idle": "2022-10-14T05:07:34.358187Z",
     "shell.execute_reply": "2022-10-14T05:07:34.357580Z",
     "shell.execute_reply.started": "2022-10-14T04:47:47.777922Z"
    },
    "papermill": {
     "duration": 0.199673,
     "end_time": "2022-10-14T05:07:34.358336",
     "exception": false,
     "start_time": "2022-10-14T05:07:34.158663",
     "status": "completed"
    },
    "tags": []
   },
   "outputs": [
    {
     "data": {
      "text/html": [
       "<div>\n",
       "<style scoped>\n",
       "    .dataframe tbody tr th:only-of-type {\n",
       "        vertical-align: middle;\n",
       "    }\n",
       "\n",
       "    .dataframe tbody tr th {\n",
       "        vertical-align: top;\n",
       "    }\n",
       "\n",
       "    .dataframe thead th {\n",
       "        text-align: right;\n",
       "    }\n",
       "</style>\n",
       "<table border=\"1\" class=\"dataframe\">\n",
       "  <thead>\n",
       "    <tr style=\"text-align: right;\">\n",
       "      <th></th>\n",
       "      <th>Text</th>\n",
       "      <th>Anger</th>\n",
       "      <th>Disgusted</th>\n",
       "      <th>Afraid</th>\n",
       "      <th>Happy</th>\n",
       "      <th>Sad</th>\n",
       "      <th>Shocked</th>\n",
       "    </tr>\n",
       "  </thead>\n",
       "  <tbody>\n",
       "    <tr>\n",
       "      <th>77</th>\n",
       "      <td>dapatkah jika ada yg lupa tidak pakai masker p...</td>\n",
       "      <td>1</td>\n",
       "      <td>0</td>\n",
       "      <td>0</td>\n",
       "      <td>0</td>\n",
       "      <td>0</td>\n",
       "      <td>0</td>\n",
       "    </tr>\n",
       "    <tr>\n",
       "      <th>12550</th>\n",
       "      <td>rt anies larang rokok dipajang di rak ritel ka...</td>\n",
       "      <td>0</td>\n",
       "      <td>0</td>\n",
       "      <td>0</td>\n",
       "      <td>0</td>\n",
       "      <td>0</td>\n",
       "      <td>0</td>\n",
       "    </tr>\n",
       "    <tr>\n",
       "      <th>17461</th>\n",
       "      <td>salut tidak mudah baginya untuk menjalani kari...</td>\n",
       "      <td>0</td>\n",
       "      <td>0</td>\n",
       "      <td>0</td>\n",
       "      <td>0</td>\n",
       "      <td>0</td>\n",
       "      <td>0</td>\n",
       "    </tr>\n",
       "    <tr>\n",
       "      <th>28557</th>\n",
       "      <td>rt boleh request selitkan notes untuk orang te...</td>\n",
       "      <td>0</td>\n",
       "      <td>0</td>\n",
       "      <td>0</td>\n",
       "      <td>0</td>\n",
       "      <td>0</td>\n",
       "      <td>0</td>\n",
       "    </tr>\n",
       "    <tr>\n",
       "      <th>19766</th>\n",
       "      <td>rt when black cats prowl and pumpkins gleam ma...</td>\n",
       "      <td>0</td>\n",
       "      <td>0</td>\n",
       "      <td>0</td>\n",
       "      <td>0</td>\n",
       "      <td>0</td>\n",
       "      <td>0</td>\n",
       "    </tr>\n",
       "    <tr>\n",
       "      <th>15040</th>\n",
       "      <td>tolong dong jangan sebar2 video jatuh dari got...</td>\n",
       "      <td>0</td>\n",
       "      <td>0</td>\n",
       "      <td>0</td>\n",
       "      <td>0</td>\n",
       "      <td>0</td>\n",
       "      <td>0</td>\n",
       "    </tr>\n",
       "    <tr>\n",
       "      <th>1614</th>\n",
       "      <td>mama en ppamu pasti bangga</td>\n",
       "      <td>0</td>\n",
       "      <td>0</td>\n",
       "      <td>0</td>\n",
       "      <td>0</td>\n",
       "      <td>0</td>\n",
       "      <td>0</td>\n",
       "    </tr>\n",
       "    <tr>\n",
       "      <th>17435</th>\n",
       "      <td>rt eh mas gk usah sok cari muka sm rakyat buat...</td>\n",
       "      <td>0</td>\n",
       "      <td>0</td>\n",
       "      <td>0</td>\n",
       "      <td>0</td>\n",
       "      <td>0</td>\n",
       "      <td>0</td>\n",
       "    </tr>\n",
       "    <tr>\n",
       "      <th>26703</th>\n",
       "      <td>rt the malay word for aroma is raksi</td>\n",
       "      <td>0</td>\n",
       "      <td>0</td>\n",
       "      <td>0</td>\n",
       "      <td>0</td>\n",
       "      <td>0</td>\n",
       "      <td>0</td>\n",
       "    </tr>\n",
       "    <tr>\n",
       "      <th>27619</th>\n",
       "      <td>rt ojolali malam jumat berlimpah sholawat doak...</td>\n",
       "      <td>0</td>\n",
       "      <td>0</td>\n",
       "      <td>0</td>\n",
       "      <td>0</td>\n",
       "      <td>0</td>\n",
       "      <td>0</td>\n",
       "    </tr>\n",
       "  </tbody>\n",
       "</table>\n",
       "</div>"
      ],
      "text/plain": [
       "                                                    Text  Anger  Disgusted  \\\n",
       "77     dapatkah jika ada yg lupa tidak pakai masker p...      1          0   \n",
       "12550  rt anies larang rokok dipajang di rak ritel ka...      0          0   \n",
       "17461  salut tidak mudah baginya untuk menjalani kari...      0          0   \n",
       "28557  rt boleh request selitkan notes untuk orang te...      0          0   \n",
       "19766  rt when black cats prowl and pumpkins gleam ma...      0          0   \n",
       "15040  tolong dong jangan sebar2 video jatuh dari got...      0          0   \n",
       "1614                          mama en ppamu pasti bangga      0          0   \n",
       "17435  rt eh mas gk usah sok cari muka sm rakyat buat...      0          0   \n",
       "26703               rt the malay word for aroma is raksi      0          0   \n",
       "27619  rt ojolali malam jumat berlimpah sholawat doak...      0          0   \n",
       "\n",
       "       Afraid  Happy  Sad  Shocked  \n",
       "77          0      0    0        0  \n",
       "12550       0      0    0        0  \n",
       "17461       0      0    0        0  \n",
       "28557       0      0    0        0  \n",
       "19766       0      0    0        0  \n",
       "15040       0      0    0        0  \n",
       "1614        0      0    0        0  \n",
       "17435       0      0    0        0  \n",
       "26703       0      0    0        0  \n",
       "27619       0      0    0        0  "
      ]
     },
     "execution_count": 4,
     "metadata": {},
     "output_type": "execute_result"
    }
   ],
   "source": [
    "df = pd.read_csv('../input/indonesia-multi-emotion-prediction/data.csv')\n",
    "df.sample(10)"
   ]
  },
  {
   "cell_type": "code",
   "execution_count": 5,
   "id": "cbcac67b",
   "metadata": {
    "execution": {
     "iopub.execute_input": "2022-10-14T05:07:34.418662Z",
     "iopub.status.busy": "2022-10-14T05:07:34.417975Z",
     "iopub.status.idle": "2022-10-14T05:07:34.421324Z",
     "shell.execute_reply": "2022-10-14T05:07:34.420788Z",
     "shell.execute_reply.started": "2022-10-14T04:47:29.374789Z"
    },
    "papermill": {
     "duration": 0.038457,
     "end_time": "2022-10-14T05:07:34.421488",
     "exception": false,
     "start_time": "2022-10-14T05:07:34.383031",
     "status": "completed"
    },
    "tags": []
   },
   "outputs": [],
   "source": [
    "text = df.Text.values\n",
    "label = df[['Anger', 'Disgusted', 'Afraid', 'Happy', 'Sad', 'Shocked']]"
   ]
  },
  {
   "cell_type": "code",
   "execution_count": 6,
   "id": "806c421b",
   "metadata": {
    "execution": {
     "iopub.execute_input": "2022-10-14T05:07:34.481434Z",
     "iopub.status.busy": "2022-10-14T05:07:34.480761Z",
     "iopub.status.idle": "2022-10-14T05:07:34.485496Z",
     "shell.execute_reply": "2022-10-14T05:07:34.484949Z",
     "shell.execute_reply.started": "2022-10-14T04:52:04.909291Z"
    },
    "papermill": {
     "duration": 0.039715,
     "end_time": "2022-10-14T05:07:34.485651",
     "exception": false,
     "start_time": "2022-10-14T05:07:34.445936",
     "status": "completed"
    },
    "tags": []
   },
   "outputs": [],
   "source": [
    "X_train, X_test = train_test_split(np.array(list(range(df.shape[0]))), \n",
    "                                                    test_size=0.1,\n",
    "                                                    random_state=1)\n",
    "    \n",
    "X_test, X_val = train_test_split(X_test,test_size=0.5,random_state=1)"
   ]
  },
  {
   "cell_type": "code",
   "execution_count": 7,
   "id": "822baa6f",
   "metadata": {
    "execution": {
     "iopub.execute_input": "2022-10-14T05:07:34.544817Z",
     "iopub.status.busy": "2022-10-14T05:07:34.544098Z",
     "iopub.status.idle": "2022-10-14T05:07:34.550340Z",
     "shell.execute_reply": "2022-10-14T05:07:34.550834Z",
     "shell.execute_reply.started": "2022-10-14T04:52:04.922406Z"
    },
    "papermill": {
     "duration": 0.040941,
     "end_time": "2022-10-14T05:07:34.551025",
     "exception": false,
     "start_time": "2022-10-14T05:07:34.510084",
     "status": "completed"
    },
    "tags": []
   },
   "outputs": [],
   "source": [
    "train_df = df.iloc[X_train,:].reset_index(drop=True)\n",
    "test_df = df.iloc[X_test,:].reset_index(drop=True)\n",
    "val_df = df.iloc[X_val,:].reset_index(drop=True)"
   ]
  },
  {
   "cell_type": "code",
   "execution_count": 8,
   "id": "2d79f7a4",
   "metadata": {
    "execution": {
     "iopub.execute_input": "2022-10-14T05:07:34.614088Z",
     "iopub.status.busy": "2022-10-14T05:07:34.613077Z",
     "iopub.status.idle": "2022-10-14T05:07:34.618105Z",
     "shell.execute_reply": "2022-10-14T05:07:34.617560Z",
     "shell.execute_reply.started": "2022-10-14T04:52:04.938603Z"
    },
    "papermill": {
     "duration": 0.042439,
     "end_time": "2022-10-14T05:07:34.618249",
     "exception": false,
     "start_time": "2022-10-14T05:07:34.575810",
     "status": "completed"
    },
    "tags": []
   },
   "outputs": [
    {
     "data": {
      "text/html": [
       "<div>\n",
       "<style scoped>\n",
       "    .dataframe tbody tr th:only-of-type {\n",
       "        vertical-align: middle;\n",
       "    }\n",
       "\n",
       "    .dataframe tbody tr th {\n",
       "        vertical-align: top;\n",
       "    }\n",
       "\n",
       "    .dataframe thead th {\n",
       "        text-align: right;\n",
       "    }\n",
       "</style>\n",
       "<table border=\"1\" class=\"dataframe\">\n",
       "  <thead>\n",
       "    <tr style=\"text-align: right;\">\n",
       "      <th></th>\n",
       "      <th>Text</th>\n",
       "      <th>Anger</th>\n",
       "      <th>Disgusted</th>\n",
       "      <th>Afraid</th>\n",
       "      <th>Happy</th>\n",
       "      <th>Sad</th>\n",
       "      <th>Shocked</th>\n",
       "    </tr>\n",
       "  </thead>\n",
       "  <tbody>\n",
       "    <tr>\n",
       "      <th>5806</th>\n",
       "      <td>rt mukanya ngeselin mondar mandir melulu di tl</td>\n",
       "      <td>0</td>\n",
       "      <td>0</td>\n",
       "      <td>0</td>\n",
       "      <td>0</td>\n",
       "      <td>0</td>\n",
       "      <td>0</td>\n",
       "    </tr>\n",
       "    <tr>\n",
       "      <th>21263</th>\n",
       "      <td>2 makanya kalimat hak segala bangsa dlm preamb...</td>\n",
       "      <td>0</td>\n",
       "      <td>0</td>\n",
       "      <td>0</td>\n",
       "      <td>1</td>\n",
       "      <td>0</td>\n",
       "      <td>0</td>\n",
       "    </tr>\n",
       "    <tr>\n",
       "      <th>8935</th>\n",
       "      <td>berusaha menerimamu apa adanya meskipun kamu k...</td>\n",
       "      <td>0</td>\n",
       "      <td>0</td>\n",
       "      <td>0</td>\n",
       "      <td>0</td>\n",
       "      <td>0</td>\n",
       "      <td>0</td>\n",
       "    </tr>\n",
       "    <tr>\n",
       "      <th>12474</th>\n",
       "      <td>rt selamat di dunia sengsara di akhiratlolos d...</td>\n",
       "      <td>0</td>\n",
       "      <td>0</td>\n",
       "      <td>0</td>\n",
       "      <td>0</td>\n",
       "      <td>0</td>\n",
       "      <td>0</td>\n",
       "    </tr>\n",
       "    <tr>\n",
       "      <th>24912</th>\n",
       "      <td>rt istri dan anak saya berusia 2 tahun 3 bulan...</td>\n",
       "      <td>0</td>\n",
       "      <td>0</td>\n",
       "      <td>0</td>\n",
       "      <td>0</td>\n",
       "      <td>0</td>\n",
       "      <td>0</td>\n",
       "    </tr>\n",
       "    <tr>\n",
       "      <th>8977</th>\n",
       "      <td>hujan lebat pagi hari</td>\n",
       "      <td>0</td>\n",
       "      <td>0</td>\n",
       "      <td>0</td>\n",
       "      <td>0</td>\n",
       "      <td>1</td>\n",
       "      <td>0</td>\n",
       "    </tr>\n",
       "    <tr>\n",
       "      <th>16777</th>\n",
       "      <td>kita kaga bisa liat apa siapa yg retweet anyg</td>\n",
       "      <td>0</td>\n",
       "      <td>0</td>\n",
       "      <td>0</td>\n",
       "      <td>0</td>\n",
       "      <td>0</td>\n",
       "      <td>0</td>\n",
       "    </tr>\n",
       "    <tr>\n",
       "      <th>15749</th>\n",
       "      <td>mudahan suami dari bisa menyadari kesalahannya...</td>\n",
       "      <td>0</td>\n",
       "      <td>0</td>\n",
       "      <td>0</td>\n",
       "      <td>0</td>\n",
       "      <td>0</td>\n",
       "      <td>0</td>\n",
       "    </tr>\n",
       "    <tr>\n",
       "      <th>16677</th>\n",
       "      <td>rt donda glory to god</td>\n",
       "      <td>0</td>\n",
       "      <td>0</td>\n",
       "      <td>0</td>\n",
       "      <td>0</td>\n",
       "      <td>0</td>\n",
       "      <td>0</td>\n",
       "    </tr>\n",
       "    <tr>\n",
       "      <th>5100</th>\n",
       "      <td>8 tahun yang kau pinjamkan belum cukup tolongl...</td>\n",
       "      <td>0</td>\n",
       "      <td>0</td>\n",
       "      <td>0</td>\n",
       "      <td>0</td>\n",
       "      <td>0</td>\n",
       "      <td>0</td>\n",
       "    </tr>\n",
       "  </tbody>\n",
       "</table>\n",
       "</div>"
      ],
      "text/plain": [
       "                                                    Text  Anger  Disgusted  \\\n",
       "5806      rt mukanya ngeselin mondar mandir melulu di tl      0          0   \n",
       "21263  2 makanya kalimat hak segala bangsa dlm preamb...      0          0   \n",
       "8935   berusaha menerimamu apa adanya meskipun kamu k...      0          0   \n",
       "12474  rt selamat di dunia sengsara di akhiratlolos d...      0          0   \n",
       "24912  rt istri dan anak saya berusia 2 tahun 3 bulan...      0          0   \n",
       "8977                               hujan lebat pagi hari      0          0   \n",
       "16777      kita kaga bisa liat apa siapa yg retweet anyg      0          0   \n",
       "15749  mudahan suami dari bisa menyadari kesalahannya...      0          0   \n",
       "16677                              rt donda glory to god      0          0   \n",
       "5100   8 tahun yang kau pinjamkan belum cukup tolongl...      0          0   \n",
       "\n",
       "       Afraid  Happy  Sad  Shocked  \n",
       "5806        0      0    0        0  \n",
       "21263       0      1    0        0  \n",
       "8935        0      0    0        0  \n",
       "12474       0      0    0        0  \n",
       "24912       0      0    0        0  \n",
       "8977        0      0    1        0  \n",
       "16777       0      0    0        0  \n",
       "15749       0      0    0        0  \n",
       "16677       0      0    0        0  \n",
       "5100        0      0    0        0  "
      ]
     },
     "execution_count": 8,
     "metadata": {},
     "output_type": "execute_result"
    }
   ],
   "source": [
    "train_df.sample(10)"
   ]
  },
  {
   "cell_type": "markdown",
   "id": "aaff0c5c",
   "metadata": {
    "papermill": {
     "duration": 0.024918,
     "end_time": "2022-10-14T05:07:34.668504",
     "exception": false,
     "start_time": "2022-10-14T05:07:34.643586",
     "status": "completed"
    },
    "tags": []
   },
   "source": [
    "# **Helper Function**"
   ]
  },
  {
   "cell_type": "code",
   "execution_count": 9,
   "id": "fb72eb86",
   "metadata": {
    "execution": {
     "iopub.execute_input": "2022-10-14T05:07:34.724636Z",
     "iopub.status.busy": "2022-10-14T05:07:34.723927Z",
     "iopub.status.idle": "2022-10-14T05:07:34.726849Z",
     "shell.execute_reply": "2022-10-14T05:07:34.726267Z",
     "shell.execute_reply.started": "2022-10-14T04:52:05.525152Z"
    },
    "papermill": {
     "duration": 0.03333,
     "end_time": "2022-10-14T05:07:34.727007",
     "exception": false,
     "start_time": "2022-10-14T05:07:34.693677",
     "status": "completed"
    },
    "tags": []
   },
   "outputs": [],
   "source": [
    "def regular_encode(texts, tokenizer, maxlen=128):\n",
    "    enc_di = tokenizer.batch_encode_plus(\n",
    "        texts, \n",
    "        return_token_type_ids=False,\n",
    "        pad_to_max_length=True,\n",
    "        max_length=maxlen\n",
    "    )\n",
    "    \n",
    "    return np.array(enc_di['input_ids'])"
   ]
  },
  {
   "cell_type": "code",
   "execution_count": 10,
   "id": "26d318f1",
   "metadata": {
    "execution": {
     "iopub.execute_input": "2022-10-14T05:07:34.785028Z",
     "iopub.status.busy": "2022-10-14T05:07:34.784159Z",
     "iopub.status.idle": "2022-10-14T05:07:34.787086Z",
     "shell.execute_reply": "2022-10-14T05:07:34.786546Z",
     "shell.execute_reply.started": "2022-10-14T04:52:05.671365Z"
    },
    "papermill": {
     "duration": 0.034815,
     "end_time": "2022-10-14T05:07:34.787234",
     "exception": false,
     "start_time": "2022-10-14T05:07:34.752419",
     "status": "completed"
    },
    "tags": []
   },
   "outputs": [],
   "source": [
    "def callback():\n",
    "    cb = []\n",
    "\n",
    "    reduceLROnPlat = ReduceLROnPlateau(monitor='val_loss',  \n",
    "                                       factor=0.5, patience=0, \n",
    "                                       verbose=1, mode='min', \n",
    "                                       epsilon=0.0001, min_lr=0,\n",
    "                                       restore_best_weights=True)\n",
    "    cb.append(reduceLROnPlat)\n",
    "    \n",
    "    es = EarlyStopping(monitor='val_loss', patience=4, verbose=0,\n",
    "                       mode='min', restore_best_weights=True)\n",
    "    \n",
    "    cb.append(es)\n",
    "    \n",
    "    return "
   ]
  },
  {
   "cell_type": "code",
   "execution_count": 11,
   "id": "d56f39be",
   "metadata": {
    "execution": {
     "iopub.execute_input": "2022-10-14T05:07:34.847512Z",
     "iopub.status.busy": "2022-10-14T05:07:34.846369Z",
     "iopub.status.idle": "2022-10-14T05:07:34.849263Z",
     "shell.execute_reply": "2022-10-14T05:07:34.848633Z",
     "shell.execute_reply.started": "2022-10-14T04:52:05.896875Z"
    },
    "papermill": {
     "duration": 0.037046,
     "end_time": "2022-10-14T05:07:34.849418",
     "exception": false,
     "start_time": "2022-10-14T05:07:34.812372",
     "status": "completed"
    },
    "tags": []
   },
   "outputs": [],
   "source": [
    "def f1(y_true, y_pred):\n",
    "    def recall(y_true, y_pred):\n",
    "        \"\"\"Recall metric.\n",
    "        Only computes a batch-wise average of recall.\n",
    "        Computes the recall, a metric for multi-label classification of\n",
    "        how many relevant items are selected.\n",
    "        \"\"\"\n",
    "        true_positives = K.sum(K.round(K.clip(y_true * y_pred, 0, 1)))\n",
    "        possible_positives = K.sum(K.round(K.clip(y_true, 0, 1)))\n",
    "        recall = true_positives / (possible_positives + K.epsilon())\n",
    "        return recall\n",
    "\n",
    "    def precision(y_true, y_pred):\n",
    "        \"\"\"Precision metric.\n",
    "        Only computes a batch-wise average of precision.\n",
    "        Computes the precision, a metric for multi-label classification of\n",
    "        how many selected items are relevant.\n",
    "        \"\"\"\n",
    "        true_positives = K.sum(K.round(K.clip(y_true * y_pred, 0, 1)))\n",
    "        predicted_positives = K.sum(K.round(K.clip(y_pred, 0, 1)))\n",
    "        precision = true_positives / (predicted_positives + K.epsilon())\n",
    "        return precision\n",
    "    \n",
    "    precision = precision(y_true, y_pred)\n",
    "    recall = recall(y_true, y_pred)\n",
    "    return 2*((precision*recall)/(precision+recall+K.epsilon()))"
   ]
  },
  {
   "cell_type": "code",
   "execution_count": 12,
   "id": "b3e31e92",
   "metadata": {
    "execution": {
     "iopub.execute_input": "2022-10-14T05:07:34.908180Z",
     "iopub.status.busy": "2022-10-14T05:07:34.907186Z",
     "iopub.status.idle": "2022-10-14T05:07:34.909867Z",
     "shell.execute_reply": "2022-10-14T05:07:34.910389Z",
     "shell.execute_reply.started": "2022-10-14T04:52:08.802547Z"
    },
    "papermill": {
     "duration": 0.035369,
     "end_time": "2022-10-14T05:07:34.910589",
     "exception": false,
     "start_time": "2022-10-14T05:07:34.875220",
     "status": "completed"
    },
    "tags": []
   },
   "outputs": [],
   "source": [
    "def build_model(transformer, learning_rate=1e-5, max_len=512):\n",
    "    input_word_ids = Input(shape=(max_len,), dtype=tf.int32, name=\"input_word_ids\")\n",
    "    sequence_output = transformer(input_word_ids)[0]\n",
    "    cls_token = sequence_output[:, 0, :]\n",
    "    cls_token = Dropout(0.2)(cls_token)\n",
    "    out = Dense(6, activation='sigmoid')(cls_token)\n",
    "    \n",
    "    model = Model(inputs=input_word_ids, outputs=out)\n",
    "    model.compile(Adam(lr=learning_rate), loss='binary_crossentropy', metrics=[tf.keras.metrics.AUC(), tf.keras.metrics.BinaryAccuracy()])\n",
    "    \n",
    "    return model"
   ]
  },
  {
   "cell_type": "markdown",
   "id": "fc7c4717",
   "metadata": {
    "papermill": {
     "duration": 0.024555,
     "end_time": "2022-10-14T05:07:34.960227",
     "exception": false,
     "start_time": "2022-10-14T05:07:34.935672",
     "status": "completed"
    },
    "tags": []
   },
   "source": [
    "# **Dataset Preparing**"
   ]
  },
  {
   "cell_type": "code",
   "execution_count": 13,
   "id": "e74254b4",
   "metadata": {
    "execution": {
     "iopub.execute_input": "2022-10-14T05:07:35.016058Z",
     "iopub.status.busy": "2022-10-14T05:07:35.015161Z",
     "iopub.status.idle": "2022-10-14T05:07:35.017896Z",
     "shell.execute_reply": "2022-10-14T05:07:35.017304Z",
     "shell.execute_reply.started": "2022-10-14T04:52:12.029608Z"
    },
    "papermill": {
     "duration": 0.032386,
     "end_time": "2022-10-14T05:07:35.018055",
     "exception": false,
     "start_time": "2022-10-14T05:07:34.985669",
     "status": "completed"
    },
    "tags": []
   },
   "outputs": [],
   "source": [
    "RANDOM_SEED=1\n",
    "AUTO = tf.data.experimental.AUTOTUNE\n",
    "BATCH_SIZE = 8 * strategy.num_replicas_in_sync\n",
    "STEPS = X_train.shape[0] // BATCH_SIZE"
   ]
  },
  {
   "cell_type": "code",
   "execution_count": 14,
   "id": "47226cb0",
   "metadata": {
    "execution": {
     "iopub.execute_input": "2022-10-14T05:07:35.072868Z",
     "iopub.status.busy": "2022-10-14T05:07:35.072220Z",
     "iopub.status.idle": "2022-10-14T05:07:39.132970Z",
     "shell.execute_reply": "2022-10-14T05:07:39.132268Z",
     "shell.execute_reply.started": "2022-10-14T04:52:14.087673Z"
    },
    "papermill": {
     "duration": 4.089876,
     "end_time": "2022-10-14T05:07:39.133130",
     "exception": false,
     "start_time": "2022-10-14T05:07:35.043254",
     "status": "completed"
    },
    "tags": []
   },
   "outputs": [
    {
     "data": {
      "application/vnd.jupyter.widget-view+json": {
       "model_id": "0fae529803cb40fcb0d4cb929cd631ae",
       "version_major": 2,
       "version_minor": 0
      },
      "text/plain": [
       "Downloading:   0%|          | 0.00/513 [00:00<?, ?B/s]"
      ]
     },
     "metadata": {},
     "output_type": "display_data"
    },
    {
     "data": {
      "application/vnd.jupyter.widget-view+json": {
       "model_id": "76f55613b5db4b92baf1163516901293",
       "version_major": 2,
       "version_minor": 0
      },
      "text/plain": [
       "Downloading:   0%|          | 0.00/5.07M [00:00<?, ?B/s]"
      ]
     },
     "metadata": {},
     "output_type": "display_data"
    }
   ],
   "source": [
    "tokenizer = AutoTokenizer.from_pretrained('jplu/tf-xlm-roberta-large')"
   ]
  },
  {
   "cell_type": "code",
   "execution_count": 15,
   "id": "edac752b",
   "metadata": {
    "execution": {
     "iopub.execute_input": "2022-10-14T05:07:39.190948Z",
     "iopub.status.busy": "2022-10-14T05:07:39.190253Z",
     "iopub.status.idle": "2022-10-14T05:07:41.786538Z",
     "shell.execute_reply": "2022-10-14T05:07:41.785942Z",
     "shell.execute_reply.started": "2022-10-14T04:52:20.731962Z"
    },
    "papermill": {
     "duration": 2.625502,
     "end_time": "2022-10-14T05:07:41.786707",
     "exception": false,
     "start_time": "2022-10-14T05:07:39.161205",
     "status": "completed"
    },
    "tags": []
   },
   "outputs": [
    {
     "name": "stderr",
     "output_type": "stream",
     "text": [
      "Truncation was not explicitly activated but `max_length` is provided a specific value, please use `truncation=True` to explicitly truncate examples to max length. Defaulting to 'longest_first' truncation strategy. If you encode pairs of sequences (GLUE-style) with the tokenizer you can select this strategy more precisely by providing a specific strategy to `truncation`.\n",
      "/opt/conda/lib/python3.7/site-packages/transformers/tokenization_utils_base.py:2079: FutureWarning: The `pad_to_max_length` argument is deprecated and will be removed in a future version, use `padding=True` or `padding='longest'` to pad to the longest sequence in the batch, or use `padding='max_length'` to pad to a max length. In this case, you can give a specific length with `max_length` (e.g. `max_length=45`) or leave max_length to None to pad to the maximal input size of the model (e.g. 512 for Bert).\n",
      "  FutureWarning,\n"
     ]
    }
   ],
   "source": [
    "X_train_t, y_train = regular_encode(list(train_df.Text.values), tokenizer), train_df[['Anger', 'Disgusted', 'Afraid', 'Happy', 'Sad', 'Shocked']]\n",
    "X_test_t, y_test  = regular_encode(list(test_df.Text.values), tokenizer), test_df[['Anger', 'Disgusted', 'Afraid', 'Happy', 'Sad', 'Shocked']]\n",
    "X_val_t , y_val  = regular_encode(list(val_df.Text.values), tokenizer), val_df[['Anger', 'Disgusted', 'Afraid', 'Happy', 'Sad', 'Shocked']]"
   ]
  },
  {
   "cell_type": "code",
   "execution_count": 16,
   "id": "d39b5e99",
   "metadata": {
    "execution": {
     "iopub.execute_input": "2022-10-14T05:07:41.859868Z",
     "iopub.status.busy": "2022-10-14T05:07:41.858817Z",
     "iopub.status.idle": "2022-10-14T05:07:41.929271Z",
     "shell.execute_reply": "2022-10-14T05:07:41.929825Z",
     "shell.execute_reply.started": "2022-10-14T04:52:23.324244Z"
    },
    "papermill": {
     "duration": 0.116618,
     "end_time": "2022-10-14T05:07:41.930007",
     "exception": false,
     "start_time": "2022-10-14T05:07:41.813389",
     "status": "completed"
    },
    "tags": []
   },
   "outputs": [],
   "source": [
    "train_dataset = (\n",
    "    tf.data.Dataset\n",
    "    .from_tensor_slices((X_train_t, y_train))\n",
    "    .repeat()\n",
    "    .shuffle(len(X_train_t),\n",
    "             seed=RANDOM_SEED)\n",
    "    .batch(BATCH_SIZE)\n",
    "    .prefetch(AUTO)\n",
    ")\n",
    "\n",
    "test_dataset = (\n",
    "    tf.data.Dataset\n",
    "    .from_tensor_slices((X_test_t, y_test))\n",
    "    .batch(BATCH_SIZE)\n",
    "    .cache()\n",
    "    .prefetch(AUTO)\n",
    ")\n",
    "\n",
    "valid_dataset = (\n",
    "    tf.data.Dataset\n",
    "    .from_tensor_slices((X_val_t, y_val))\n",
    "    .batch(BATCH_SIZE)\n",
    ")"
   ]
  },
  {
   "cell_type": "markdown",
   "id": "b4f64fb9",
   "metadata": {
    "papermill": {
     "duration": 0.02677,
     "end_time": "2022-10-14T05:07:41.983522",
     "exception": false,
     "start_time": "2022-10-14T05:07:41.956752",
     "status": "completed"
    },
    "tags": []
   },
   "source": [
    "# **Model Preparing**"
   ]
  },
  {
   "cell_type": "code",
   "execution_count": 17,
   "id": "ff117f11",
   "metadata": {
    "execution": {
     "iopub.execute_input": "2022-10-14T05:07:42.044264Z",
     "iopub.status.busy": "2022-10-14T05:07:42.043567Z",
     "iopub.status.idle": "2022-10-14T05:12:28.216064Z",
     "shell.execute_reply": "2022-10-14T05:12:28.215137Z",
     "shell.execute_reply.started": "2022-10-14T04:52:23.427673Z"
    },
    "papermill": {
     "duration": 286.205843,
     "end_time": "2022-10-14T05:12:28.216376",
     "exception": false,
     "start_time": "2022-10-14T05:07:42.010533",
     "status": "completed"
    },
    "tags": []
   },
   "outputs": [
    {
     "data": {
      "application/vnd.jupyter.widget-view+json": {
       "model_id": "502eb47507df4d72ba2314b186306cb4",
       "version_major": 2,
       "version_minor": 0
      },
      "text/plain": [
       "Downloading:   0%|          | 0.00/3.27G [00:00<?, ?B/s]"
      ]
     },
     "metadata": {},
     "output_type": "display_data"
    },
    {
     "name": "stderr",
     "output_type": "stream",
     "text": [
      "Some layers from the model checkpoint at jplu/tf-xlm-roberta-large were not used when initializing TFXLMRobertaModel: ['lm_head']\n",
      "- This IS expected if you are initializing TFXLMRobertaModel from the checkpoint of a model trained on another task or with another architecture (e.g. initializing a BertForSequenceClassification model from a BertForPreTraining model).\n",
      "- This IS NOT expected if you are initializing TFXLMRobertaModel from the checkpoint of a model that you expect to be exactly identical (initializing a BertForSequenceClassification model from a BertForSequenceClassification model).\n",
      "All the layers of TFXLMRobertaModel were initialized from the model checkpoint at jplu/tf-xlm-roberta-large.\n",
      "If your task is similar to the task the model of the checkpoint was trained on, you can already use TFXLMRobertaModel for predictions without further training.\n"
     ]
    }
   ],
   "source": [
    "with strategy.scope():\n",
    "    transformer_layer = TFAutoModel.from_pretrained('jplu/tf-xlm-roberta-large')\n",
    "    model = build_model(transformer_layer, max_len=128, learning_rate=5e-6)"
   ]
  },
  {
   "cell_type": "code",
   "execution_count": 18,
   "id": "7cd44053",
   "metadata": {
    "execution": {
     "iopub.execute_input": "2022-10-14T05:12:28.293791Z",
     "iopub.status.busy": "2022-10-14T05:12:28.288712Z",
     "iopub.status.idle": "2022-10-14T05:12:28.321532Z",
     "shell.execute_reply": "2022-10-14T05:12:28.320921Z",
     "shell.execute_reply.started": "2022-10-14T04:55:08.921272Z"
    },
    "papermill": {
     "duration": 0.074506,
     "end_time": "2022-10-14T05:12:28.321711",
     "exception": false,
     "start_time": "2022-10-14T05:12:28.247205",
     "status": "completed"
    },
    "tags": []
   },
   "outputs": [
    {
     "name": "stdout",
     "output_type": "stream",
     "text": [
      "Model: \"model\"\n",
      "_________________________________________________________________\n",
      "Layer (type)                 Output Shape              Param #   \n",
      "=================================================================\n",
      "input_word_ids (InputLayer)  [(None, 128)]             0         \n",
      "_________________________________________________________________\n",
      "tfxlm_roberta_model (TFXLMRo TFBaseModelOutputWithPool 559890432 \n",
      "_________________________________________________________________\n",
      "tf.__operators__.getitem (Sl (None, 1024)              0         \n",
      "_________________________________________________________________\n",
      "dropout_73 (Dropout)         (None, 1024)              0         \n",
      "_________________________________________________________________\n",
      "dense (Dense)                (None, 6)                 6150      \n",
      "=================================================================\n",
      "Total params: 559,896,582\n",
      "Trainable params: 559,896,582\n",
      "Non-trainable params: 0\n",
      "_________________________________________________________________\n"
     ]
    }
   ],
   "source": [
    "model.summary()"
   ]
  },
  {
   "cell_type": "markdown",
   "id": "53e1f793",
   "metadata": {
    "papermill": {
     "duration": 0.032807,
     "end_time": "2022-10-14T05:12:28.387021",
     "exception": false,
     "start_time": "2022-10-14T05:12:28.354214",
     "status": "completed"
    },
    "tags": []
   },
   "source": [
    "# **Training**"
   ]
  },
  {
   "cell_type": "code",
   "execution_count": 19,
   "id": "6e85261b",
   "metadata": {
    "execution": {
     "iopub.execute_input": "2022-10-14T05:12:28.461227Z",
     "iopub.status.busy": "2022-10-14T05:12:28.460178Z",
     "iopub.status.idle": "2022-10-14T05:12:28.463856Z",
     "shell.execute_reply": "2022-10-14T05:12:28.463234Z",
     "shell.execute_reply.started": "2022-10-14T04:55:08.956827Z"
    },
    "papermill": {
     "duration": 0.04407,
     "end_time": "2022-10-14T05:12:28.464030",
     "exception": false,
     "start_time": "2022-10-14T05:12:28.419960",
     "status": "completed"
    },
    "tags": []
   },
   "outputs": [],
   "source": [
    "tf.keras.backend.clear_session()"
   ]
  },
  {
   "cell_type": "code",
   "execution_count": 20,
   "id": "74297a10",
   "metadata": {
    "execution": {
     "iopub.execute_input": "2022-10-14T05:12:28.535148Z",
     "iopub.status.busy": "2022-10-14T05:12:28.533943Z",
     "iopub.status.idle": "2022-10-14T05:22:16.925846Z",
     "shell.execute_reply": "2022-10-14T05:22:16.923970Z",
     "shell.execute_reply.started": "2022-10-14T04:55:08.969423Z"
    },
    "papermill": {
     "duration": 588.431453,
     "end_time": "2022-10-14T05:22:16.926161",
     "exception": false,
     "start_time": "2022-10-14T05:12:28.494708",
     "status": "completed"
    },
    "tags": []
   },
   "outputs": [
    {
     "name": "stdout",
     "output_type": "stream",
     "text": [
      "Epoch 1/5\n"
     ]
    },
    {
     "name": "stderr",
     "output_type": "stream",
     "text": [
      "/opt/conda/lib/python3.7/site-packages/tensorflow/python/framework/indexed_slices.py:430: UserWarning: Converting sparse IndexedSlices to a dense Tensor with 256002048 elements. This may consume a large amount of memory.\n",
      "  num_elements)\n"
     ]
    },
    {
     "name": "stdout",
     "output_type": "stream",
     "text": [
      "410/410 [==============================] - 250s 268ms/step - loss: 0.2437 - auc: 0.6937 - binary_accuracy: 0.9148 - val_loss: 0.1623 - val_auc: 0.7699 - val_binary_accuracy: 0.9548\n",
      "Epoch 2/5\n",
      "410/410 [==============================] - 84s 206ms/step - loss: 0.1704 - auc: 0.7624 - binary_accuracy: 0.9539 - val_loss: 0.1486 - val_auc: 0.8415 - val_binary_accuracy: 0.9549\n",
      "Epoch 3/5\n",
      "410/410 [==============================] - 84s 206ms/step - loss: 0.1582 - auc: 0.8216 - binary_accuracy: 0.9524 - val_loss: 0.1372 - val_auc: 0.8731 - val_binary_accuracy: 0.9549\n",
      "Epoch 4/5\n",
      "410/410 [==============================] - 85s 207ms/step - loss: 0.1487 - auc: 0.8526 - binary_accuracy: 0.9521 - val_loss: 0.1322 - val_auc: 0.8878 - val_binary_accuracy: 0.9540\n",
      "Epoch 5/5\n",
      "410/410 [==============================] - 84s 206ms/step - loss: 0.1427 - auc: 0.8717 - binary_accuracy: 0.9520 - val_loss: 0.1308 - val_auc: 0.8933 - val_binary_accuracy: 0.9559\n"
     ]
    }
   ],
   "source": [
    "train_history = model.fit(\n",
    "    train_dataset,\n",
    "    steps_per_epoch=STEPS,\n",
    "    validation_data=test_dataset,\n",
    "    callbacks=callback(), \n",
    "    epochs=5\n",
    ")"
   ]
  },
  {
   "cell_type": "code",
   "execution_count": 21,
   "id": "e5207bc2",
   "metadata": {
    "execution": {
     "iopub.execute_input": "2022-10-14T05:22:18.280032Z",
     "iopub.status.busy": "2022-10-14T05:22:18.279355Z",
     "iopub.status.idle": "2022-10-14T05:22:20.243799Z",
     "shell.execute_reply": "2022-10-14T05:22:20.243125Z",
     "shell.execute_reply.started": "2022-10-14T05:04:50.062173Z"
    },
    "papermill": {
     "duration": 2.633793,
     "end_time": "2022-10-14T05:22:20.243977",
     "exception": false,
     "start_time": "2022-10-14T05:22:17.610184",
     "status": "completed"
    },
    "tags": []
   },
   "outputs": [
    {
     "name": "stdout",
     "output_type": "stream",
     "text": [
      "23/23 [==============================] - 2s 44ms/step - loss: 0.1273 - auc: 0.8765 - binary_accuracy: 0.9580\n"
     ]
    }
   ],
   "source": [
    "pred = model.evaluate(valid_dataset)"
   ]
  },
  {
   "cell_type": "code",
   "execution_count": 22,
   "id": "f6abd2c6",
   "metadata": {
    "execution": {
     "iopub.execute_input": "2022-10-14T05:22:21.631654Z",
     "iopub.status.busy": "2022-10-14T05:22:21.630787Z",
     "iopub.status.idle": "2022-10-14T05:22:21.634056Z",
     "shell.execute_reply": "2022-10-14T05:22:21.633425Z",
     "shell.execute_reply.started": "2022-10-14T05:04:51.857219Z"
    },
    "papermill": {
     "duration": 0.692937,
     "end_time": "2022-10-14T05:22:21.634207",
     "exception": false,
     "start_time": "2022-10-14T05:22:20.941270",
     "status": "completed"
    },
    "tags": []
   },
   "outputs": [],
   "source": [
    "text = np.array(['jelas sekali ada yang salah dalam sistem bernegara kita pr besar bagaimana merumuskannya kedepan ket video harus korupsi disini bisa didefinisikan langkah mensiasati anggarant',\n",
    "                'bukan semua agama itu benar melainkan engkau meyakini bahwa agamamu benar dibarengi sikap saling menghormati jika ada pemeluk agama lain yg menyatakan bahwa agama yg dianutnya adalah benar',\n",
    "                'saat konstantinopel takluk ayasofya tetap dijaga bahkan saat perang pun rumah ibadah tak boleh diganggu pengrusakan rumah ibadah di kab sintang kalimantan barat sangat disayangkan saya turut mengecam dan berduka cita semoga pelakunya dapat diproses hukum dengan adil',\n",
    "                'sudah dinyatakan bersalah ya harus dihukum dari sudut pandang fadli zon yg mana yang menggelikan yg menggelikan sudah dinyatakan bersalah tidak hukum fadli zon vonis 4 tahun bui untuk habib rizieq menggelikan',\n",
    "                'dia nih yang bikin umbrella academy tebel coba aja dia mau nurutin apa kata bapaknya buat gausah aneh aneh pasti umbrella academy tipis banget wkwk'], dtype='object')"
   ]
  },
  {
   "cell_type": "code",
   "execution_count": 23,
   "id": "f68d70fb",
   "metadata": {
    "execution": {
     "iopub.execute_input": "2022-10-14T05:22:22.945427Z",
     "iopub.status.busy": "2022-10-14T05:22:22.944419Z",
     "iopub.status.idle": "2022-10-14T05:22:22.962944Z",
     "shell.execute_reply": "2022-10-14T05:22:22.963512Z",
     "shell.execute_reply.started": "2022-10-14T05:04:51.867007Z"
    },
    "papermill": {
     "duration": 0.674854,
     "end_time": "2022-10-14T05:22:22.963710",
     "exception": false,
     "start_time": "2022-10-14T05:22:22.288856",
     "status": "completed"
    },
    "tags": []
   },
   "outputs": [
    {
     "name": "stderr",
     "output_type": "stream",
     "text": [
      "/opt/conda/lib/python3.7/site-packages/transformers/tokenization_utils_base.py:2079: FutureWarning: The `pad_to_max_length` argument is deprecated and will be removed in a future version, use `padding=True` or `padding='longest'` to pad to the longest sequence in the batch, or use `padding='max_length'` to pad to a max length. In this case, you can give a specific length with `max_length` (e.g. `max_length=45`) or leave max_length to None to pad to the maximal input size of the model (e.g. 512 for Bert).\n",
      "  FutureWarning,\n"
     ]
    }
   ],
   "source": [
    "text_encode = regular_encode(list(text), tokenizer)"
   ]
  },
  {
   "cell_type": "code",
   "execution_count": 24,
   "id": "a0bb958b",
   "metadata": {
    "execution": {
     "iopub.execute_input": "2022-10-14T05:22:24.352142Z",
     "iopub.status.busy": "2022-10-14T05:22:24.351429Z",
     "iopub.status.idle": "2022-10-14T05:22:39.766982Z",
     "shell.execute_reply": "2022-10-14T05:22:39.767598Z",
     "shell.execute_reply.started": "2022-10-14T05:04:51.883275Z"
    },
    "papermill": {
     "duration": 16.088517,
     "end_time": "2022-10-14T05:22:39.767797",
     "exception": false,
     "start_time": "2022-10-14T05:22:23.679280",
     "status": "completed"
    },
    "tags": []
   },
   "outputs": [],
   "source": [
    "result = model.predict(text_encode)"
   ]
  },
  {
   "cell_type": "code",
   "execution_count": 25,
   "id": "0b80416a",
   "metadata": {
    "execution": {
     "iopub.execute_input": "2022-10-14T05:22:41.150929Z",
     "iopub.status.busy": "2022-10-14T05:22:41.150158Z",
     "iopub.status.idle": "2022-10-14T05:22:41.172195Z",
     "shell.execute_reply": "2022-10-14T05:22:41.171637Z",
     "shell.execute_reply.started": "2022-10-14T05:06:22.542065Z"
    },
    "papermill": {
     "duration": 0.698603,
     "end_time": "2022-10-14T05:22:41.172361",
     "exception": false,
     "start_time": "2022-10-14T05:22:40.473758",
     "status": "completed"
    },
    "tags": []
   },
   "outputs": [
    {
     "name": "stdout",
     "output_type": "stream",
     "text": [
      "Emosi 1 : Anger\n",
      "Anger     : 20%\n",
      "Disgusted : 0%\n",
      "Afraid    : 0%\n",
      "Happy     : 1%\n",
      "Sad       : 12%\n",
      "Shocked   : 0%\n",
      "\n",
      "Emosi 2 : Happy\n",
      "Anger     : 7%\n",
      "Disgusted : 0%\n",
      "Afraid    : 0%\n",
      "Happy     : 35%\n",
      "Sad       : 3%\n",
      "Shocked   : 0%\n",
      "\n",
      "Emosi 3 : Anger, Sad\n",
      "Anger     : 9%\n",
      "Disgusted : 0%\n",
      "Afraid    : 3%\n",
      "Happy     : 1%\n",
      "Sad       : 41%\n",
      "Shocked   : 0%\n",
      "\n",
      "Emosi 3 : Anger, Disgusted\n",
      "Anger     : 34%\n",
      "Disgusted : 0%\n",
      "Afraid    : 0%\n",
      "Happy     : 0%\n",
      "Sad       : 2%\n",
      "Shocked   : 0%\n",
      "\n",
      "Emosi 3 : Anger, Shocked\n",
      "Anger     : 19%\n",
      "Disgusted : 0%\n",
      "Afraid    : 0%\n",
      "Happy     : 1%\n",
      "Sad       : 2%\n",
      "Shocked   : 0%\n"
     ]
    }
   ],
   "source": [
    "print('Emosi 1 : Anger')\n",
    "print(f'Anger     : {round(result[0][0]*100)}%')\n",
    "print(f'Disgusted : {round(result[0][1]*100)}%')\n",
    "print(f'Afraid    : {round(result[0][2]*100)}%')\n",
    "print(f'Happy     : {round(result[0][3]*100)}%')\n",
    "print(f'Sad       : {round(result[0][4]*100)}%')\n",
    "print(f'Shocked   : {round(result[0][5]*100)}%')\n",
    "\n",
    "print('\\nEmosi 2 : Happy')\n",
    "print(f'Anger     : {round(result[1][0]*100)}%')\n",
    "print(f'Disgusted : {round(result[1][1]*100)}%')\n",
    "print(f'Afraid    : {round(result[1][2]*100)}%')\n",
    "print(f'Happy     : {round(result[1][3]*100)}%')\n",
    "print(f'Sad       : {round(result[1][4]*100)}%')\n",
    "print(f'Shocked   : {round(result[1][5]*100)}%')\n",
    "\n",
    "print('\\nEmosi 3 : Anger, Sad')\n",
    "print(f'Anger     : {round(result[2][0]*100)}%')\n",
    "print(f'Disgusted : {round(result[2][1]*100)}%')\n",
    "print(f'Afraid    : {round(result[2][2]*100)}%')\n",
    "print(f'Happy     : {round(result[2][3]*100)}%')\n",
    "print(f'Sad       : {round(result[2][4]*100)}%')\n",
    "print(f'Shocked   : {round(result[2][5]*100)}%')\n",
    "\n",
    "print('\\nEmosi 3 : Anger, Disgusted')\n",
    "print(f'Anger     : {round(result[3][0]*100)}%')\n",
    "print(f'Disgusted : {round(result[3][1]*100)}%')\n",
    "print(f'Afraid    : {round(result[3][2]*100)}%')\n",
    "print(f'Happy     : {round(result[3][3]*100)}%')\n",
    "print(f'Sad       : {round(result[3][4]*100)}%')\n",
    "print(f'Shocked   : {round(result[3][5]*100)}%')\n",
    "\n",
    "print('\\nEmosi 3 : Anger, Shocked')\n",
    "print(f'Anger     : {round(result[4][0]*100)}%')\n",
    "print(f'Disgusted : {round(result[4][1]*100)}%')\n",
    "print(f'Afraid    : {round(result[4][2]*100)}%')\n",
    "print(f'Happy     : {round(result[4][3]*100)}%')\n",
    "print(f'Sad       : {round(result[4][4]*100)}%')\n",
    "print(f'Shocked   : {round(result[4][5]*100)}%')"
   ]
  }
 ],
 "metadata": {
  "kernelspec": {
   "display_name": "Python 3",
   "language": "python",
   "name": "python3"
  },
  "language_info": {
   "codemirror_mode": {
    "name": "ipython",
    "version": 3
   },
   "file_extension": ".py",
   "mimetype": "text/x-python",
   "name": "python",
   "nbconvert_exporter": "python",
   "pygments_lexer": "ipython3",
   "version": "3.7.10"
  },
  "papermill": {
   "default_parameters": {},
   "duration": 944.206569,
   "end_time": "2022-10-14T05:22:45.505125",
   "environment_variables": {},
   "exception": null,
   "input_path": "__notebook__.ipynb",
   "output_path": "__notebook__.ipynb",
   "parameters": {},
   "start_time": "2022-10-14T05:07:01.298556",
   "version": "2.3.3"
  },
  "widgets": {
   "application/vnd.jupyter.widget-state+json": {
    "state": {
     "0115cfb0908844b4a48fde23371d0c82": {
      "model_module": "@jupyter-widgets/base",
      "model_module_version": "1.2.0",
      "model_name": "LayoutModel",
      "state": {
       "_model_module": "@jupyter-widgets/base",
       "_model_module_version": "1.2.0",
       "_model_name": "LayoutModel",
       "_view_count": null,
       "_view_module": "@jupyter-widgets/base",
       "_view_module_version": "1.2.0",
       "_view_name": "LayoutView",
       "align_content": null,
       "align_items": null,
       "align_self": null,
       "border": null,
       "bottom": null,
       "display": null,
       "flex": null,
       "flex_flow": null,
       "grid_area": null,
       "grid_auto_columns": null,
       "grid_auto_flow": null,
       "grid_auto_rows": null,
       "grid_column": null,
       "grid_gap": null,
       "grid_row": null,
       "grid_template_areas": null,
       "grid_template_columns": null,
       "grid_template_rows": null,
       "height": null,
       "justify_content": null,
       "justify_items": null,
       "left": null,
       "margin": null,
       "max_height": null,
       "max_width": null,
       "min_height": null,
       "min_width": null,
       "object_fit": null,
       "object_position": null,
       "order": null,
       "overflow": null,
       "overflow_x": null,
       "overflow_y": null,
       "padding": null,
       "right": null,
       "top": null,
       "visibility": null,
       "width": null
      }
     },
     "07cd5bba0f414df1bf152e15480eb149": {
      "model_module": "@jupyter-widgets/controls",
      "model_module_version": "1.5.0",
      "model_name": "DescriptionStyleModel",
      "state": {
       "_model_module": "@jupyter-widgets/controls",
       "_model_module_version": "1.5.0",
       "_model_name": "DescriptionStyleModel",
       "_view_count": null,
       "_view_module": "@jupyter-widgets/base",
       "_view_module_version": "1.2.0",
       "_view_name": "StyleView",
       "description_width": ""
      }
     },
     "0fae529803cb40fcb0d4cb929cd631ae": {
      "model_module": "@jupyter-widgets/controls",
      "model_module_version": "1.5.0",
      "model_name": "HBoxModel",
      "state": {
       "_dom_classes": [],
       "_model_module": "@jupyter-widgets/controls",
       "_model_module_version": "1.5.0",
       "_model_name": "HBoxModel",
       "_view_count": null,
       "_view_module": "@jupyter-widgets/controls",
       "_view_module_version": "1.5.0",
       "_view_name": "HBoxView",
       "box_style": "",
       "children": [
        "IPY_MODEL_5e377ca3d8564b098e33895fec90f482",
        "IPY_MODEL_795f2a14f0ae4887a2bc864269b8ea91",
        "IPY_MODEL_1dd6c6faef4948b5a445e4158c79db50"
       ],
       "layout": "IPY_MODEL_7ae72864e5554b2f8dbfffa40226afde"
      }
     },
     "16ae6859f6e942ba9a0f76dbe8bb52ce": {
      "model_module": "@jupyter-widgets/controls",
      "model_module_version": "1.5.0",
      "model_name": "DescriptionStyleModel",
      "state": {
       "_model_module": "@jupyter-widgets/controls",
       "_model_module_version": "1.5.0",
       "_model_name": "DescriptionStyleModel",
       "_view_count": null,
       "_view_module": "@jupyter-widgets/base",
       "_view_module_version": "1.2.0",
       "_view_name": "StyleView",
       "description_width": ""
      }
     },
     "1dd6c6faef4948b5a445e4158c79db50": {
      "model_module": "@jupyter-widgets/controls",
      "model_module_version": "1.5.0",
      "model_name": "HTMLModel",
      "state": {
       "_dom_classes": [],
       "_model_module": "@jupyter-widgets/controls",
       "_model_module_version": "1.5.0",
       "_model_name": "HTMLModel",
       "_view_count": null,
       "_view_module": "@jupyter-widgets/controls",
       "_view_module_version": "1.5.0",
       "_view_name": "HTMLView",
       "description": "",
       "description_tooltip": null,
       "layout": "IPY_MODEL_1eabfddd54274c95a453de0609c524fd",
       "placeholder": "​",
       "style": "IPY_MODEL_f70d7bf006734d008da7fa01fed1933c",
       "value": " 513/513 [00:00&lt;00:00, 16.3kB/s]"
      }
     },
     "1eabfddd54274c95a453de0609c524fd": {
      "model_module": "@jupyter-widgets/base",
      "model_module_version": "1.2.0",
      "model_name": "LayoutModel",
      "state": {
       "_model_module": "@jupyter-widgets/base",
       "_model_module_version": "1.2.0",
       "_model_name": "LayoutModel",
       "_view_count": null,
       "_view_module": "@jupyter-widgets/base",
       "_view_module_version": "1.2.0",
       "_view_name": "LayoutView",
       "align_content": null,
       "align_items": null,
       "align_self": null,
       "border": null,
       "bottom": null,
       "display": null,
       "flex": null,
       "flex_flow": null,
       "grid_area": null,
       "grid_auto_columns": null,
       "grid_auto_flow": null,
       "grid_auto_rows": null,
       "grid_column": null,
       "grid_gap": null,
       "grid_row": null,
       "grid_template_areas": null,
       "grid_template_columns": null,
       "grid_template_rows": null,
       "height": null,
       "justify_content": null,
       "justify_items": null,
       "left": null,
       "margin": null,
       "max_height": null,
       "max_width": null,
       "min_height": null,
       "min_width": null,
       "object_fit": null,
       "object_position": null,
       "order": null,
       "overflow": null,
       "overflow_x": null,
       "overflow_y": null,
       "padding": null,
       "right": null,
       "top": null,
       "visibility": null,
       "width": null
      }
     },
     "310e0b1f352e4c71854d5733916fc9e0": {
      "model_module": "@jupyter-widgets/controls",
      "model_module_version": "1.5.0",
      "model_name": "HTMLModel",
      "state": {
       "_dom_classes": [],
       "_model_module": "@jupyter-widgets/controls",
       "_model_module_version": "1.5.0",
       "_model_name": "HTMLModel",
       "_view_count": null,
       "_view_module": "@jupyter-widgets/controls",
       "_view_module_version": "1.5.0",
       "_view_name": "HTMLView",
       "description": "",
       "description_tooltip": null,
       "layout": "IPY_MODEL_c5ba2ec7829b4b96a5b683ec86d4c19a",
       "placeholder": "​",
       "style": "IPY_MODEL_b2bef1f96b3f44b5adb63be015d48620",
       "value": " 3.27G/3.27G [03:43&lt;00:00, 15.8MB/s]"
      }
     },
     "4e782dc4e2fe4b86a0cef6737fdf1653": {
      "model_module": "@jupyter-widgets/controls",
      "model_module_version": "1.5.0",
      "model_name": "HTMLModel",
      "state": {
       "_dom_classes": [],
       "_model_module": "@jupyter-widgets/controls",
       "_model_module_version": "1.5.0",
       "_model_name": "HTMLModel",
       "_view_count": null,
       "_view_module": "@jupyter-widgets/controls",
       "_view_module_version": "1.5.0",
       "_view_name": "HTMLView",
       "description": "",
       "description_tooltip": null,
       "layout": "IPY_MODEL_e2bb69556a39461897bd2bc6d939f582",
       "placeholder": "​",
       "style": "IPY_MODEL_16ae6859f6e942ba9a0f76dbe8bb52ce",
       "value": "Downloading: 100%"
      }
     },
     "502eb47507df4d72ba2314b186306cb4": {
      "model_module": "@jupyter-widgets/controls",
      "model_module_version": "1.5.0",
      "model_name": "HBoxModel",
      "state": {
       "_dom_classes": [],
       "_model_module": "@jupyter-widgets/controls",
       "_model_module_version": "1.5.0",
       "_model_name": "HBoxModel",
       "_view_count": null,
       "_view_module": "@jupyter-widgets/controls",
       "_view_module_version": "1.5.0",
       "_view_name": "HBoxView",
       "box_style": "",
       "children": [
        "IPY_MODEL_910e34b28cdd435688ff94d7b2820ff5",
        "IPY_MODEL_d44b543720c4476dae89ca31f1d4ade2",
        "IPY_MODEL_310e0b1f352e4c71854d5733916fc9e0"
       ],
       "layout": "IPY_MODEL_ee2caa5dad4b4f65b3b68d4e5c6bb8ae"
      }
     },
     "5e377ca3d8564b098e33895fec90f482": {
      "model_module": "@jupyter-widgets/controls",
      "model_module_version": "1.5.0",
      "model_name": "HTMLModel",
      "state": {
       "_dom_classes": [],
       "_model_module": "@jupyter-widgets/controls",
       "_model_module_version": "1.5.0",
       "_model_name": "HTMLModel",
       "_view_count": null,
       "_view_module": "@jupyter-widgets/controls",
       "_view_module_version": "1.5.0",
       "_view_name": "HTMLView",
       "description": "",
       "description_tooltip": null,
       "layout": "IPY_MODEL_5e6650d949dc4b7499c29504316abd32",
       "placeholder": "​",
       "style": "IPY_MODEL_9f25844908544af29c469a2286e926f6",
       "value": "Downloading: 100%"
      }
     },
     "5e6650d949dc4b7499c29504316abd32": {
      "model_module": "@jupyter-widgets/base",
      "model_module_version": "1.2.0",
      "model_name": "LayoutModel",
      "state": {
       "_model_module": "@jupyter-widgets/base",
       "_model_module_version": "1.2.0",
       "_model_name": "LayoutModel",
       "_view_count": null,
       "_view_module": "@jupyter-widgets/base",
       "_view_module_version": "1.2.0",
       "_view_name": "LayoutView",
       "align_content": null,
       "align_items": null,
       "align_self": null,
       "border": null,
       "bottom": null,
       "display": null,
       "flex": null,
       "flex_flow": null,
       "grid_area": null,
       "grid_auto_columns": null,
       "grid_auto_flow": null,
       "grid_auto_rows": null,
       "grid_column": null,
       "grid_gap": null,
       "grid_row": null,
       "grid_template_areas": null,
       "grid_template_columns": null,
       "grid_template_rows": null,
       "height": null,
       "justify_content": null,
       "justify_items": null,
       "left": null,
       "margin": null,
       "max_height": null,
       "max_width": null,
       "min_height": null,
       "min_width": null,
       "object_fit": null,
       "object_position": null,
       "order": null,
       "overflow": null,
       "overflow_x": null,
       "overflow_y": null,
       "padding": null,
       "right": null,
       "top": null,
       "visibility": null,
       "width": null
      }
     },
     "655ac818c6994adc8e382381660bcd66": {
      "model_module": "@jupyter-widgets/controls",
      "model_module_version": "1.5.0",
      "model_name": "DescriptionStyleModel",
      "state": {
       "_model_module": "@jupyter-widgets/controls",
       "_model_module_version": "1.5.0",
       "_model_name": "DescriptionStyleModel",
       "_view_count": null,
       "_view_module": "@jupyter-widgets/base",
       "_view_module_version": "1.2.0",
       "_view_name": "StyleView",
       "description_width": ""
      }
     },
     "6e6267a8630e4547aaccda16d5f16bda": {
      "model_module": "@jupyter-widgets/controls",
      "model_module_version": "1.5.0",
      "model_name": "HTMLModel",
      "state": {
       "_dom_classes": [],
       "_model_module": "@jupyter-widgets/controls",
       "_model_module_version": "1.5.0",
       "_model_name": "HTMLModel",
       "_view_count": null,
       "_view_module": "@jupyter-widgets/controls",
       "_view_module_version": "1.5.0",
       "_view_name": "HTMLView",
       "description": "",
       "description_tooltip": null,
       "layout": "IPY_MODEL_ad4bad2002814b03a9d2b8f1f8150b07",
       "placeholder": "​",
       "style": "IPY_MODEL_07cd5bba0f414df1bf152e15480eb149",
       "value": " 5.07M/5.07M [00:00&lt;00:00, 13.1MB/s]"
      }
     },
     "72f10fbbf2f24e7a884fca4bdddb7076": {
      "model_module": "@jupyter-widgets/base",
      "model_module_version": "1.2.0",
      "model_name": "LayoutModel",
      "state": {
       "_model_module": "@jupyter-widgets/base",
       "_model_module_version": "1.2.0",
       "_model_name": "LayoutModel",
       "_view_count": null,
       "_view_module": "@jupyter-widgets/base",
       "_view_module_version": "1.2.0",
       "_view_name": "LayoutView",
       "align_content": null,
       "align_items": null,
       "align_self": null,
       "border": null,
       "bottom": null,
       "display": null,
       "flex": null,
       "flex_flow": null,
       "grid_area": null,
       "grid_auto_columns": null,
       "grid_auto_flow": null,
       "grid_auto_rows": null,
       "grid_column": null,
       "grid_gap": null,
       "grid_row": null,
       "grid_template_areas": null,
       "grid_template_columns": null,
       "grid_template_rows": null,
       "height": null,
       "justify_content": null,
       "justify_items": null,
       "left": null,
       "margin": null,
       "max_height": null,
       "max_width": null,
       "min_height": null,
       "min_width": null,
       "object_fit": null,
       "object_position": null,
       "order": null,
       "overflow": null,
       "overflow_x": null,
       "overflow_y": null,
       "padding": null,
       "right": null,
       "top": null,
       "visibility": null,
       "width": null
      }
     },
     "76f55613b5db4b92baf1163516901293": {
      "model_module": "@jupyter-widgets/controls",
      "model_module_version": "1.5.0",
      "model_name": "HBoxModel",
      "state": {
       "_dom_classes": [],
       "_model_module": "@jupyter-widgets/controls",
       "_model_module_version": "1.5.0",
       "_model_name": "HBoxModel",
       "_view_count": null,
       "_view_module": "@jupyter-widgets/controls",
       "_view_module_version": "1.5.0",
       "_view_name": "HBoxView",
       "box_style": "",
       "children": [
        "IPY_MODEL_4e782dc4e2fe4b86a0cef6737fdf1653",
        "IPY_MODEL_9e72386cb9144ac5a3490c43dcb1218f",
        "IPY_MODEL_6e6267a8630e4547aaccda16d5f16bda"
       ],
       "layout": "IPY_MODEL_a0b1da8ad5e7493188faa45bd8351a6b"
      }
     },
     "795f2a14f0ae4887a2bc864269b8ea91": {
      "model_module": "@jupyter-widgets/controls",
      "model_module_version": "1.5.0",
      "model_name": "FloatProgressModel",
      "state": {
       "_dom_classes": [],
       "_model_module": "@jupyter-widgets/controls",
       "_model_module_version": "1.5.0",
       "_model_name": "FloatProgressModel",
       "_view_count": null,
       "_view_module": "@jupyter-widgets/controls",
       "_view_module_version": "1.5.0",
       "_view_name": "ProgressView",
       "bar_style": "success",
       "description": "",
       "description_tooltip": null,
       "layout": "IPY_MODEL_95fc0cb0947c4817a9e13c38218e49b5",
       "max": 513.0,
       "min": 0.0,
       "orientation": "horizontal",
       "style": "IPY_MODEL_8fd8c528382f49b4bac6273c87dfd07c",
       "value": 513.0
      }
     },
     "7ae72864e5554b2f8dbfffa40226afde": {
      "model_module": "@jupyter-widgets/base",
      "model_module_version": "1.2.0",
      "model_name": "LayoutModel",
      "state": {
       "_model_module": "@jupyter-widgets/base",
       "_model_module_version": "1.2.0",
       "_model_name": "LayoutModel",
       "_view_count": null,
       "_view_module": "@jupyter-widgets/base",
       "_view_module_version": "1.2.0",
       "_view_name": "LayoutView",
       "align_content": null,
       "align_items": null,
       "align_self": null,
       "border": null,
       "bottom": null,
       "display": null,
       "flex": null,
       "flex_flow": null,
       "grid_area": null,
       "grid_auto_columns": null,
       "grid_auto_flow": null,
       "grid_auto_rows": null,
       "grid_column": null,
       "grid_gap": null,
       "grid_row": null,
       "grid_template_areas": null,
       "grid_template_columns": null,
       "grid_template_rows": null,
       "height": null,
       "justify_content": null,
       "justify_items": null,
       "left": null,
       "margin": null,
       "max_height": null,
       "max_width": null,
       "min_height": null,
       "min_width": null,
       "object_fit": null,
       "object_position": null,
       "order": null,
       "overflow": null,
       "overflow_x": null,
       "overflow_y": null,
       "padding": null,
       "right": null,
       "top": null,
       "visibility": null,
       "width": null
      }
     },
     "8fd8c528382f49b4bac6273c87dfd07c": {
      "model_module": "@jupyter-widgets/controls",
      "model_module_version": "1.5.0",
      "model_name": "ProgressStyleModel",
      "state": {
       "_model_module": "@jupyter-widgets/controls",
       "_model_module_version": "1.5.0",
       "_model_name": "ProgressStyleModel",
       "_view_count": null,
       "_view_module": "@jupyter-widgets/base",
       "_view_module_version": "1.2.0",
       "_view_name": "StyleView",
       "bar_color": null,
       "description_width": ""
      }
     },
     "910e34b28cdd435688ff94d7b2820ff5": {
      "model_module": "@jupyter-widgets/controls",
      "model_module_version": "1.5.0",
      "model_name": "HTMLModel",
      "state": {
       "_dom_classes": [],
       "_model_module": "@jupyter-widgets/controls",
       "_model_module_version": "1.5.0",
       "_model_name": "HTMLModel",
       "_view_count": null,
       "_view_module": "@jupyter-widgets/controls",
       "_view_module_version": "1.5.0",
       "_view_name": "HTMLView",
       "description": "",
       "description_tooltip": null,
       "layout": "IPY_MODEL_ef868fb4986d48258fc5b6d1c509c0ca",
       "placeholder": "​",
       "style": "IPY_MODEL_655ac818c6994adc8e382381660bcd66",
       "value": "Downloading: 100%"
      }
     },
     "95fc0cb0947c4817a9e13c38218e49b5": {
      "model_module": "@jupyter-widgets/base",
      "model_module_version": "1.2.0",
      "model_name": "LayoutModel",
      "state": {
       "_model_module": "@jupyter-widgets/base",
       "_model_module_version": "1.2.0",
       "_model_name": "LayoutModel",
       "_view_count": null,
       "_view_module": "@jupyter-widgets/base",
       "_view_module_version": "1.2.0",
       "_view_name": "LayoutView",
       "align_content": null,
       "align_items": null,
       "align_self": null,
       "border": null,
       "bottom": null,
       "display": null,
       "flex": null,
       "flex_flow": null,
       "grid_area": null,
       "grid_auto_columns": null,
       "grid_auto_flow": null,
       "grid_auto_rows": null,
       "grid_column": null,
       "grid_gap": null,
       "grid_row": null,
       "grid_template_areas": null,
       "grid_template_columns": null,
       "grid_template_rows": null,
       "height": null,
       "justify_content": null,
       "justify_items": null,
       "left": null,
       "margin": null,
       "max_height": null,
       "max_width": null,
       "min_height": null,
       "min_width": null,
       "object_fit": null,
       "object_position": null,
       "order": null,
       "overflow": null,
       "overflow_x": null,
       "overflow_y": null,
       "padding": null,
       "right": null,
       "top": null,
       "visibility": null,
       "width": null
      }
     },
     "9e72386cb9144ac5a3490c43dcb1218f": {
      "model_module": "@jupyter-widgets/controls",
      "model_module_version": "1.5.0",
      "model_name": "FloatProgressModel",
      "state": {
       "_dom_classes": [],
       "_model_module": "@jupyter-widgets/controls",
       "_model_module_version": "1.5.0",
       "_model_name": "FloatProgressModel",
       "_view_count": null,
       "_view_module": "@jupyter-widgets/controls",
       "_view_module_version": "1.5.0",
       "_view_name": "ProgressView",
       "bar_style": "success",
       "description": "",
       "description_tooltip": null,
       "layout": "IPY_MODEL_72f10fbbf2f24e7a884fca4bdddb7076",
       "max": 5069051.0,
       "min": 0.0,
       "orientation": "horizontal",
       "style": "IPY_MODEL_a560ea704b3b46f291da4bb38f252ccf",
       "value": 5069051.0
      }
     },
     "9f25844908544af29c469a2286e926f6": {
      "model_module": "@jupyter-widgets/controls",
      "model_module_version": "1.5.0",
      "model_name": "DescriptionStyleModel",
      "state": {
       "_model_module": "@jupyter-widgets/controls",
       "_model_module_version": "1.5.0",
       "_model_name": "DescriptionStyleModel",
       "_view_count": null,
       "_view_module": "@jupyter-widgets/base",
       "_view_module_version": "1.2.0",
       "_view_name": "StyleView",
       "description_width": ""
      }
     },
     "a0b1da8ad5e7493188faa45bd8351a6b": {
      "model_module": "@jupyter-widgets/base",
      "model_module_version": "1.2.0",
      "model_name": "LayoutModel",
      "state": {
       "_model_module": "@jupyter-widgets/base",
       "_model_module_version": "1.2.0",
       "_model_name": "LayoutModel",
       "_view_count": null,
       "_view_module": "@jupyter-widgets/base",
       "_view_module_version": "1.2.0",
       "_view_name": "LayoutView",
       "align_content": null,
       "align_items": null,
       "align_self": null,
       "border": null,
       "bottom": null,
       "display": null,
       "flex": null,
       "flex_flow": null,
       "grid_area": null,
       "grid_auto_columns": null,
       "grid_auto_flow": null,
       "grid_auto_rows": null,
       "grid_column": null,
       "grid_gap": null,
       "grid_row": null,
       "grid_template_areas": null,
       "grid_template_columns": null,
       "grid_template_rows": null,
       "height": null,
       "justify_content": null,
       "justify_items": null,
       "left": null,
       "margin": null,
       "max_height": null,
       "max_width": null,
       "min_height": null,
       "min_width": null,
       "object_fit": null,
       "object_position": null,
       "order": null,
       "overflow": null,
       "overflow_x": null,
       "overflow_y": null,
       "padding": null,
       "right": null,
       "top": null,
       "visibility": null,
       "width": null
      }
     },
     "a560ea704b3b46f291da4bb38f252ccf": {
      "model_module": "@jupyter-widgets/controls",
      "model_module_version": "1.5.0",
      "model_name": "ProgressStyleModel",
      "state": {
       "_model_module": "@jupyter-widgets/controls",
       "_model_module_version": "1.5.0",
       "_model_name": "ProgressStyleModel",
       "_view_count": null,
       "_view_module": "@jupyter-widgets/base",
       "_view_module_version": "1.2.0",
       "_view_name": "StyleView",
       "bar_color": null,
       "description_width": ""
      }
     },
     "ad4bad2002814b03a9d2b8f1f8150b07": {
      "model_module": "@jupyter-widgets/base",
      "model_module_version": "1.2.0",
      "model_name": "LayoutModel",
      "state": {
       "_model_module": "@jupyter-widgets/base",
       "_model_module_version": "1.2.0",
       "_model_name": "LayoutModel",
       "_view_count": null,
       "_view_module": "@jupyter-widgets/base",
       "_view_module_version": "1.2.0",
       "_view_name": "LayoutView",
       "align_content": null,
       "align_items": null,
       "align_self": null,
       "border": null,
       "bottom": null,
       "display": null,
       "flex": null,
       "flex_flow": null,
       "grid_area": null,
       "grid_auto_columns": null,
       "grid_auto_flow": null,
       "grid_auto_rows": null,
       "grid_column": null,
       "grid_gap": null,
       "grid_row": null,
       "grid_template_areas": null,
       "grid_template_columns": null,
       "grid_template_rows": null,
       "height": null,
       "justify_content": null,
       "justify_items": null,
       "left": null,
       "margin": null,
       "max_height": null,
       "max_width": null,
       "min_height": null,
       "min_width": null,
       "object_fit": null,
       "object_position": null,
       "order": null,
       "overflow": null,
       "overflow_x": null,
       "overflow_y": null,
       "padding": null,
       "right": null,
       "top": null,
       "visibility": null,
       "width": null
      }
     },
     "b2bef1f96b3f44b5adb63be015d48620": {
      "model_module": "@jupyter-widgets/controls",
      "model_module_version": "1.5.0",
      "model_name": "DescriptionStyleModel",
      "state": {
       "_model_module": "@jupyter-widgets/controls",
       "_model_module_version": "1.5.0",
       "_model_name": "DescriptionStyleModel",
       "_view_count": null,
       "_view_module": "@jupyter-widgets/base",
       "_view_module_version": "1.2.0",
       "_view_name": "StyleView",
       "description_width": ""
      }
     },
     "c5ba2ec7829b4b96a5b683ec86d4c19a": {
      "model_module": "@jupyter-widgets/base",
      "model_module_version": "1.2.0",
      "model_name": "LayoutModel",
      "state": {
       "_model_module": "@jupyter-widgets/base",
       "_model_module_version": "1.2.0",
       "_model_name": "LayoutModel",
       "_view_count": null,
       "_view_module": "@jupyter-widgets/base",
       "_view_module_version": "1.2.0",
       "_view_name": "LayoutView",
       "align_content": null,
       "align_items": null,
       "align_self": null,
       "border": null,
       "bottom": null,
       "display": null,
       "flex": null,
       "flex_flow": null,
       "grid_area": null,
       "grid_auto_columns": null,
       "grid_auto_flow": null,
       "grid_auto_rows": null,
       "grid_column": null,
       "grid_gap": null,
       "grid_row": null,
       "grid_template_areas": null,
       "grid_template_columns": null,
       "grid_template_rows": null,
       "height": null,
       "justify_content": null,
       "justify_items": null,
       "left": null,
       "margin": null,
       "max_height": null,
       "max_width": null,
       "min_height": null,
       "min_width": null,
       "object_fit": null,
       "object_position": null,
       "order": null,
       "overflow": null,
       "overflow_x": null,
       "overflow_y": null,
       "padding": null,
       "right": null,
       "top": null,
       "visibility": null,
       "width": null
      }
     },
     "d44b543720c4476dae89ca31f1d4ade2": {
      "model_module": "@jupyter-widgets/controls",
      "model_module_version": "1.5.0",
      "model_name": "FloatProgressModel",
      "state": {
       "_dom_classes": [],
       "_model_module": "@jupyter-widgets/controls",
       "_model_module_version": "1.5.0",
       "_model_name": "FloatProgressModel",
       "_view_count": null,
       "_view_module": "@jupyter-widgets/controls",
       "_view_module_version": "1.5.0",
       "_view_name": "ProgressView",
       "bar_style": "success",
       "description": "",
       "description_tooltip": null,
       "layout": "IPY_MODEL_0115cfb0908844b4a48fde23371d0c82",
       "max": 3271420488.0,
       "min": 0.0,
       "orientation": "horizontal",
       "style": "IPY_MODEL_f84ffa148c384f76bf8d8060eaa7289b",
       "value": 3271420488.0
      }
     },
     "e2bb69556a39461897bd2bc6d939f582": {
      "model_module": "@jupyter-widgets/base",
      "model_module_version": "1.2.0",
      "model_name": "LayoutModel",
      "state": {
       "_model_module": "@jupyter-widgets/base",
       "_model_module_version": "1.2.0",
       "_model_name": "LayoutModel",
       "_view_count": null,
       "_view_module": "@jupyter-widgets/base",
       "_view_module_version": "1.2.0",
       "_view_name": "LayoutView",
       "align_content": null,
       "align_items": null,
       "align_self": null,
       "border": null,
       "bottom": null,
       "display": null,
       "flex": null,
       "flex_flow": null,
       "grid_area": null,
       "grid_auto_columns": null,
       "grid_auto_flow": null,
       "grid_auto_rows": null,
       "grid_column": null,
       "grid_gap": null,
       "grid_row": null,
       "grid_template_areas": null,
       "grid_template_columns": null,
       "grid_template_rows": null,
       "height": null,
       "justify_content": null,
       "justify_items": null,
       "left": null,
       "margin": null,
       "max_height": null,
       "max_width": null,
       "min_height": null,
       "min_width": null,
       "object_fit": null,
       "object_position": null,
       "order": null,
       "overflow": null,
       "overflow_x": null,
       "overflow_y": null,
       "padding": null,
       "right": null,
       "top": null,
       "visibility": null,
       "width": null
      }
     },
     "ee2caa5dad4b4f65b3b68d4e5c6bb8ae": {
      "model_module": "@jupyter-widgets/base",
      "model_module_version": "1.2.0",
      "model_name": "LayoutModel",
      "state": {
       "_model_module": "@jupyter-widgets/base",
       "_model_module_version": "1.2.0",
       "_model_name": "LayoutModel",
       "_view_count": null,
       "_view_module": "@jupyter-widgets/base",
       "_view_module_version": "1.2.0",
       "_view_name": "LayoutView",
       "align_content": null,
       "align_items": null,
       "align_self": null,
       "border": null,
       "bottom": null,
       "display": null,
       "flex": null,
       "flex_flow": null,
       "grid_area": null,
       "grid_auto_columns": null,
       "grid_auto_flow": null,
       "grid_auto_rows": null,
       "grid_column": null,
       "grid_gap": null,
       "grid_row": null,
       "grid_template_areas": null,
       "grid_template_columns": null,
       "grid_template_rows": null,
       "height": null,
       "justify_content": null,
       "justify_items": null,
       "left": null,
       "margin": null,
       "max_height": null,
       "max_width": null,
       "min_height": null,
       "min_width": null,
       "object_fit": null,
       "object_position": null,
       "order": null,
       "overflow": null,
       "overflow_x": null,
       "overflow_y": null,
       "padding": null,
       "right": null,
       "top": null,
       "visibility": null,
       "width": null
      }
     },
     "ef868fb4986d48258fc5b6d1c509c0ca": {
      "model_module": "@jupyter-widgets/base",
      "model_module_version": "1.2.0",
      "model_name": "LayoutModel",
      "state": {
       "_model_module": "@jupyter-widgets/base",
       "_model_module_version": "1.2.0",
       "_model_name": "LayoutModel",
       "_view_count": null,
       "_view_module": "@jupyter-widgets/base",
       "_view_module_version": "1.2.0",
       "_view_name": "LayoutView",
       "align_content": null,
       "align_items": null,
       "align_self": null,
       "border": null,
       "bottom": null,
       "display": null,
       "flex": null,
       "flex_flow": null,
       "grid_area": null,
       "grid_auto_columns": null,
       "grid_auto_flow": null,
       "grid_auto_rows": null,
       "grid_column": null,
       "grid_gap": null,
       "grid_row": null,
       "grid_template_areas": null,
       "grid_template_columns": null,
       "grid_template_rows": null,
       "height": null,
       "justify_content": null,
       "justify_items": null,
       "left": null,
       "margin": null,
       "max_height": null,
       "max_width": null,
       "min_height": null,
       "min_width": null,
       "object_fit": null,
       "object_position": null,
       "order": null,
       "overflow": null,
       "overflow_x": null,
       "overflow_y": null,
       "padding": null,
       "right": null,
       "top": null,
       "visibility": null,
       "width": null
      }
     },
     "f70d7bf006734d008da7fa01fed1933c": {
      "model_module": "@jupyter-widgets/controls",
      "model_module_version": "1.5.0",
      "model_name": "DescriptionStyleModel",
      "state": {
       "_model_module": "@jupyter-widgets/controls",
       "_model_module_version": "1.5.0",
       "_model_name": "DescriptionStyleModel",
       "_view_count": null,
       "_view_module": "@jupyter-widgets/base",
       "_view_module_version": "1.2.0",
       "_view_name": "StyleView",
       "description_width": ""
      }
     },
     "f84ffa148c384f76bf8d8060eaa7289b": {
      "model_module": "@jupyter-widgets/controls",
      "model_module_version": "1.5.0",
      "model_name": "ProgressStyleModel",
      "state": {
       "_model_module": "@jupyter-widgets/controls",
       "_model_module_version": "1.5.0",
       "_model_name": "ProgressStyleModel",
       "_view_count": null,
       "_view_module": "@jupyter-widgets/base",
       "_view_module_version": "1.2.0",
       "_view_name": "StyleView",
       "bar_color": null,
       "description_width": ""
      }
     }
    },
    "version_major": 2,
    "version_minor": 0
   }
  }
 },
 "nbformat": 4,
 "nbformat_minor": 5
}
